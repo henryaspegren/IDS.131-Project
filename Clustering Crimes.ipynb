{
 "cells": [
  {
   "cell_type": "code",
   "execution_count": 44,
   "metadata": {
    "collapsed": true
   },
   "outputs": [],
   "source": [
    "import numpy as np\n",
    "import pandas as pd\n",
    "import itertools as it\n",
    "import matplotlib.pyplot as plt"
   ]
  },
  {
   "cell_type": "code",
   "execution_count": 31,
   "metadata": {
    "collapsed": false
   },
   "outputs": [],
   "source": [
    "co_offending_table = pd.read_csv('./Cooffending.csv')\n",
    "co_offending_table.drop_duplicates(inplace=True)\n",
    "co_offending_table.sort_values(by='NoUnique', inplace=True)\n",
    "def to_int(x):\n",
    "    if x == ' ':\n",
    "        return 0\n",
    "    else:\n",
    "        return int(x)\n",
    "co_offending_table.NCD1 = co_offending_table.NCD1.apply(to_int)\n",
    "co_offending_table.NCD1 = co_offending_table.NCD1.astype(int)\n",
    "co_offending_table['ArrestCount'] = co_offending_table.groupby('NoUnique')['SeqE'].transform('count')"
   ]
  },
  {
   "cell_type": "code",
   "execution_count": 32,
   "metadata": {
    "collapsed": false
   },
   "outputs": [],
   "source": [
    "# build mapping of crimes and offender to indicies of a matrix \n",
    "\n",
    "offenders = np.unique(co_offending_table[co_offending_table.ArrestCount > 1]['NoUnique'])\n",
    "crime_types = np.unique(co_offending_table.NCD1)\n",
    "number_of_offenders = len(offenders)\n",
    "number_of_crime_types = len(crime_types)\n",
    "\n",
    "crime_to_index = {}\n",
    "offender_to_index = {}\n",
    "\n",
    "for (offender, index) in zip(offenders,range(number_of_offenders)):\n",
    "    offender_to_index[offender] = index\n",
    "    \n",
    "for (crime, index) in zip(crime_types,range(number_of_crime_types)):\n",
    "    crime_to_index[crime] = index"
   ]
  },
  {
   "cell_type": "code",
   "execution_count": 33,
   "metadata": {
    "collapsed": true
   },
   "outputs": [],
   "source": [
    "X = np.zeros((number_of_crime_types,number_of_offenders))"
   ]
  },
  {
   "cell_type": "code",
   "execution_count": 35,
   "metadata": {
    "collapsed": false
   },
   "outputs": [
    {
     "name": "stdout",
     "output_type": "stream",
     "text": [
      "0\n",
      "100000\n"
     ]
    }
   ],
   "source": [
    "for column_index in range(number_of_offenders):\n",
    "    if column_index % 100000 == 0:\n",
    "        print(column_index)\n",
    "    offender = offenders[column_index]\n",
    "    crimes = co_offending_table[co_offending_table.NoUnique == offender]['NCD1'].values\n",
    "    for crime in crimes:\n",
    "        crime_index = crime_to_index[crime]\n",
    "        X[crime_index, column_index] = 1"
   ]
  },
  {
   "cell_type": "code",
   "execution_count": 38,
   "metadata": {
    "collapsed": false
   },
   "outputs": [],
   "source": [
    "from sklearn.manifold import TSNE"
   ]
  },
  {
   "cell_type": "code",
   "execution_count": 52,
   "metadata": {
    "collapsed": false
   },
   "outputs": [],
   "source": [
    "embedding = TSNE()\n",
    "X_embedded = embedding.fit_transform(X)"
   ]
  },
  {
   "cell_type": "code",
   "execution_count": 53,
   "metadata": {
    "collapsed": false
   },
   "outputs": [
    {
     "data": {
      "text/plain": [
       "(295, 2)"
      ]
     },
     "execution_count": 53,
     "metadata": {},
     "output_type": "execute_result"
    }
   ],
   "source": [
    "X_embedded.shape"
   ]
  },
  {
   "cell_type": "code",
   "execution_count": 54,
   "metadata": {
    "collapsed": false
   },
   "outputs": [
    {
     "data": {
      "image/png": "[encoded data removed]",
      "text/plain": [
       "<matplotlib.figure.Figure at 0x1159a91d0>"
      ]
     },
     "metadata": {},
     "output_type": "display_data"
    }
   ],
   "source": [
    "plt.scatter(X_embedded[:, 0], X_embedded[:, 1])\n",
    "plt.show()"
   ]
  },
  {
   "cell_type": "code",
   "execution_count": 60,
   "metadata": {
    "collapsed": false
   },
   "outputs": [
    {
     "data": {
      "image/png": "[encoded data removed]",
      "text/plain": [
       "<matplotlib.figure.Figure at 0x115b93208>"
      ]
     },
     "metadata": {},
     "output_type": "display_data"
    }
   ],
   "source": [
    "plt.plot(np.matmul(X, np.ones(X.shape[1])))\n",
    "plt.show()"
   ]
  },
  {
   "cell_type": "code",
   "execution_count": null,
   "metadata": {
    "collapsed": true
   },
   "outputs": [],
   "source": []
  }
 ],
 "metadata": {
  "kernelspec": {
   "display_name": "Python 3",
   "language": "python",
   "name": "python3"
  },
  "language_info": {
   "codemirror_mode": {
    "name": "ipython",
    "version": 3
   },
   "file_extension": ".py",
   "mimetype": "text/x-python",
   "name": "python",
   "nbconvert_exporter": "python",
   "pygments_lexer": "ipython3",
   "version": "3.6.0"
  }
 },
 "nbformat": 4,
 "nbformat_minor": 2
}
