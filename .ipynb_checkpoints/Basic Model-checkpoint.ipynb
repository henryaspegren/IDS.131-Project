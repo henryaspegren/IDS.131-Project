{
 "cells": [
  {
   "cell_type": "code",
   "execution_count": 1,
   "metadata": {
    "collapsed": true
   },
   "outputs": [],
   "source": [
    "import pandas as pd\n",
    "import networkx as nx\n",
    "import numpy as np\n",
    "import matplotlib.pyplot as plt\n",
    "import datetime, re, pickle\n",
    "from sklearn.linear_model import LogisticRegression"
   ]
  },
  {
   "cell_type": "code",
   "execution_count": 6,
   "metadata": {
    "collapsed": true
   },
   "outputs": [],
   "source": [
    "PROCESSED_DATASET_CSV_FILE = './processed_datasets/basic_model.csv'\n",
    "PROCESSED_DATASET_PKL_FILE = './processed_datasets/basic_model.pkl'\n",
    "RAW_COFFENDING_CSV_FILE = './raw_datasets/Cooffending.csv'\n",
    "PROCESSED_CRIME_LABEL_CSV_FILE = './processed_datasets/crime_type_mapping.csv'\n",
    "PROCESSED_CRIME_LABEL_PKL_FILE = './processed_datasets/crime_type_mapping.pkl'\n"
   ]
  },
  {
   "cell_type": "markdown",
   "metadata": {},
   "source": [
    "## Load Preprocessed Data\n"
   ]
  },
  {
   "cell_type": "code",
   "execution_count": null,
   "metadata": {
    "collapsed": false
   },
   "outputs": [],
   "source": [
    "training_data = None\n",
    "with open(PROCESSED_DATASET_PKL_FILE, 'rb') as file_obj:\n",
    "    training_data = pickle.load(file_obj)"
   ]
  },
  {
   "cell_type": "markdown",
   "metadata": {},
   "source": [
    "## Preprocessing (skip this if you just want to use the post-processed data)"
   ]
  },
  {
   "cell_type": "code",
   "execution_count": 4,
   "metadata": {
    "collapsed": false
   },
   "outputs": [],
   "source": [
    "co_offending_table = pd.read_csv(RAW_COFFENDING_CSV_FILE)\n",
    "\n",
    "# Remove duplicate rows\n",
    "co_offending_table.drop_duplicates(inplace=True)\n",
    "\n",
    "# Format the date column as a python datetime object\n",
    "co_offending_table['Date'] = co_offending_table.Date.apply(lambda x: datetime.datetime.strptime(x, '%m/%d/%Y'))\n",
    "\n",
    "# Add a column for the number of arrests of each offender\n",
    "co_offending_table['ArrestCount'] = co_offending_table.groupby('NoUnique')['SeqE'].transform('count')"
   ]
  },
  {
   "cell_type": "code",
   "execution_count": 8,
   "metadata": {
    "collapsed": true
   },
   "outputs": [],
   "source": [
    "crime_labels = None\n",
    "with open(PROCESSED_CRIME_LABEL_PKL_FILE, 'rb') as file_obj:\n",
    "    crime_labels = pickle.load(file_obj)"
   ]
  },
  {
   "cell_type": "code",
   "execution_count": 10,
   "metadata": {
    "collapsed": true
   },
   "outputs": [],
   "source": [
    "def process_second_arrests(df):\n",
    "    if len(df) == 1: \n",
    "        return None\n",
    "    else:\n",
    "        return df.iloc[1]\n",
    "    \n",
    "def process_seq_numbers(x):\n",
    "    if np.isnan(x):\n",
    "        return 0\n",
    "    else:\n",
    "        return 1"
   ]
  },
  {
   "cell_type": "code",
   "execution_count": 11,
   "metadata": {
    "collapsed": false
   },
   "outputs": [],
   "source": [
    "def build_table_of_first_two_arrests(co_offending):\n",
    "    # first sort by offender and date\n",
    "    co_offending = co_offending.sort_values(by=['NoUnique', 'Date'])\n",
    "    # this gets the first arrest of each offender (which is gauranteed to exist)\n",
    "    print('sorted')\n",
    "    first_arrest = co_offending.groupby('NoUnique').apply(lambda x: x.iloc[0])\n",
    "    first_arrest.columns = ['first_arrest_'+str(x) for x in first_arrest.columns]\n",
    "    print(first_arrest)\n",
    "    # this gets the second arrest of each offender or NaN if the offender does not exist\n",
    "    second_arrests = co_offending.groupby('NoUnique').apply(process_second_arrests)\n",
    "    second_arrests.columns = ['second_arrest_'+str(x) for x in second_arrests.columns]\n",
    "    print(second_arrests)\n",
    "    # combine these two dataframe \n",
    "    first_and_second_arrest_data = pd.merge(first_arrest, second_arrests, how='outer', left_index=True, right_index=True)\n",
    "    # add a column with a binary variable 0/1 for whether arrested again\n",
    "    first_and_second_arrest_data['arrested_again'] = first_and_second_arrest_data.second_arrest_NoUnique.apply(process_seq_numbers)\n",
    "    \n",
    "    \n",
    "    return first_and_second_arrest_data"
   ]
  },
  {
   "cell_type": "code",
   "execution_count": null,
   "metadata": {
    "collapsed": false
   },
   "outputs": [
    {
     "name": "stdout",
     "output_type": "stream",
     "text": [
      "sorted\n"
     ]
    }
   ],
   "source": [
    "# build data frame\n",
    "training_data = build_table_of_first_two_arrests(co_offending_table)\n",
    "\n",
    "# format data\n",
    "training_data.first_arrest_SeqE = training_data.first_arrest_SeqE.astype('category')\n",
    "training_data.first_arrest_SEXE = training_data.first_arrest_SEXE.astype('category')\n",
    "training_data.first_arrest_NCD1 = training_data.first_arrest_NCD1.astype('category')\n",
    "training_data.first_arrest_NCD2 = training_data.first_arrest_NCD2.astype('category')\n",
    "training_data.first_arrest_NCD3 = training_data.first_arrest_NCD3.astype('category')\n",
    "training_data.first_arrest_NCD4 = training_data.first_arrest_NCD4.astype('category')\n",
    "training_data.first_arrest_MUN = training_data.first_arrest_MUN.astype('category')\n",
    "training_data.first_arrest_ED1 = training_data.first_arrest_ED1.astype('category')\n",
    "training_data.second_arrest_SeqE = training_data.second_arrest_SeqE.astype('category')\n",
    "training_data.second_arrest_SEXE = training_data.second_arrest_SEXE.astype('category')\n",
    "training_data.second_arrest_NCD1 = training_data.second_arrest_NCD1.astype('category')\n",
    "training_data.second_arrest_NCD2 = training_data.second_arrest_NCD2.astype('category')\n",
    "training_data.second_arrest_NCD3 = training_data.second_arrest_NCD3.astype('category')\n",
    "training_data.second_arrest_NCD4 = training_data.second_arrest_NCD4.astype('category')\n",
    "training_data.second_arrest_MUN = training_data.second_arrest_MUN.astype('category')\n",
    "training_data.second_arrest_ED1 = training_data.second_arrest_ED1.astype('category')\n"
   ]
  },
  {
   "cell_type": "code",
   "execution_count": null,
   "metadata": {
    "collapsed": false
   },
   "outputs": [],
   "source": [
    "def get_arrest_label(x, crime_label_attribute):\n",
    "    if x != ' ' and not (x is None):\n",
    "        return crime_labels.get_value(index=int(x), col=crime_label_attribute)\n",
    "    else:\n",
    "        return 0\n",
    "\n",
    "training_data['first_arrest_criminiology_label'] = training_data['first_arrest_NCD1'].apply(lambda x: get_arrest_label(x, 'criminology_category'))\n",
    "training_data['first_arrest_group_crime_label'] = training_data['first_arrest_NCD1'].apply(lambda x: get_arrest_label(x, 'group_crime'))\n",
    "training_data['first_arrest_drug_crime_label'] = training_data['first_arrest_NCD1'].apply(lambda x: get_arrest_label(x, 'drug_crime'))\n",
    "training_data['first_arrest_drug_usage_label'] = training_data['first_arrest_NCD1'].apply(lambda x: get_arrest_label(x, 'drug_usage'))\n",
    "training_data['first_arrest_drug_trafficking_label'] = training_data['first_arrest_NCD1'].apply(lambda x: get_arrest_label(x, 'drug_trafficking'))\n",
    "\n",
    "\n",
    "training_data['second_arrest_criminiology_label'] = training_data['second_arrest_NCD1'].apply(lambda x: get_arrest_label(x, 'criminology_category'))\n",
    "training_data['second_arrest_group_crime_label'] = training_data['second_arrest_NCD1'].apply(lambda x: get_arrest_label(x, 'group_crime'))\n",
    "training_data['second_arrest_drug_crime_label'] = training_data['second_arrest_NCD1'].apply(lambda x: get_arrest_label(x, 'drug_crime'))\n",
    "training_data['second_arrest_drug_usage_label'] = training_data['second_arrest_NCD1'].apply(lambda x: get_arrest_label(x, 'drug_usage'))\n",
    "training_data['second_arrest_drug_trafficking_label'] = training_data['second_arrest_NCD1'].apply(lambda x: get_arrest_label(x, 'drug_trafficking'))\n",
    "\n",
    "\n",
    "\n",
    "\n",
    "training_data.first_arrest_criminiology_label = training_data.first_arrest_criminiology_label.astype('category')\n",
    "training_data.first_arrest_group_crime_label = training_data.first_arrest_group_crime_label.astype('int')\n",
    "training_data.first_arrest_drug_crime_label = training_data.first_arrest_drug_crime_label.astype('int')\n",
    "training_data.first_arrest_drug_usage_label = training_data.first_arrest_drug_usage_label.astype('int')\n",
    "training_data.first_arrest_drug_trafficking_label = training_data.first_arrest_drug_trafficking_label.astype('int')\n",
    "\n",
    "training_data.second_arrest_criminiology_label = training_data.second_arrest_criminiology_label.astype('category')\n",
    "training_data.second_arrest_group_crime_label = training_data.second_arrest_group_crime_label.astype('int')\n",
    "training_data.second_arrest_drug_crime_label = training_data.second_arrest_drug_crime_label.astype('int')\n",
    "training_data.second_arrest_drug_usage_label = training_data.second_arrest_drug_usage_label.astype('int')\n",
    "training_data.second_arrest_drug_trafficking_label = training_data.second_arrest_drug_trafficking_label.astype('int')"
   ]
  },
  {
   "cell_type": "code",
   "execution_count": null,
   "metadata": {
    "collapsed": true
   },
   "outputs": [],
   "source": [
    "training_data"
   ]
  },
  {
   "cell_type": "code",
   "execution_count": null,
   "metadata": {
    "collapsed": false
   },
   "outputs": [],
   "source": [
    "## save the whole thing\n",
    "training_data.to_csv(PROCESSED_DATASET_CSV_FILE)\n",
    "\n",
    "with open(PROCESSED_DATASET_PKL_FILE, 'wb') as file_obj:\n",
    "    pickle.dump(training_data, file=file_obj)\n",
    "    \n",
    "training_data."
   ]
  },
  {
   "cell_type": "markdown",
   "metadata": {},
   "source": [
    "## Basic Model"
   ]
  },
  {
   "cell_type": "code",
   "execution_count": null,
   "metadata": {
    "collapsed": false
   },
   "outputs": [],
   "source": [
    "print('raw recidivism rate: %f' % (sum(training_data.arrested_again)/len(training_data.arrested_again)))"
   ]
  },
  {
   "cell_type": "code",
   "execution_count": null,
   "metadata": {
    "collapsed": true
   },
   "outputs": [],
   "source": [
    "from sklearn.linear_model import LogisticRegression"
   ]
  },
  {
   "cell_type": "code",
   "execution_count": null,
   "metadata": {
    "collapsed": false
   },
   "outputs": [],
   "source": [
    "X_df = training_data[['first_arrest_SEXE','first_arrest_NCD1', 'first_arrest_MUN', 'first_arrest_ED1']]\n",
    "\n",
    "# gives us dummy variables\n",
    "X_df = pd.get_dummies(X_df)\n",
    "X = X_df.as_matrix()\n",
    "\n",
    "Y_df = training_data[['arrested_again']]\n",
    "Y = Y_df.as_matrix()\n",
    "Y = Y.ravel()"
   ]
  },
  {
   "cell_type": "code",
   "execution_count": null,
   "metadata": {
    "collapsed": false
   },
   "outputs": [],
   "source": [
    "print(X.shape, Y.shape)"
   ]
  },
  {
   "cell_type": "code",
   "execution_count": null,
   "metadata": {
    "collapsed": false
   },
   "outputs": [],
   "source": [
    "baseline_model = LogisticRegression(penalty='l1', verbose=True)"
   ]
  },
  {
   "cell_type": "code",
   "execution_count": null,
   "metadata": {
    "collapsed": false
   },
   "outputs": [],
   "source": [
    "baseline_model.fit(X, Y)"
   ]
  },
  {
   "cell_type": "code",
   "execution_count": null,
   "metadata": {
    "collapsed": false
   },
   "outputs": [],
   "source": [
    "# coefficient analysis (for interpretation)\n",
    "res = np.argsort(abs(baseline_model.coef_))[0]\n",
    "res = res[::-1]\n",
    "print('bias: %f' % baseline_model.intercept_)\n",
    "for coeff_index in res[0:50]:\n",
    "    value = baseline_model.coef_[0][coeff_index]\n",
    "    name = X_df.columns[coeff_index]\n",
    "    print('coefficient: %s  | value: %f' % (name, value))\n"
   ]
  },
  {
   "cell_type": "code",
   "execution_count": null,
   "metadata": {
    "collapsed": false
   },
   "outputs": [],
   "source": [
    "baseline_model.score(X, Y)"
   ]
  },
  {
   "cell_type": "markdown",
   "metadata": {},
   "source": [
    "## Basic Model with Crime Class Labels"
   ]
  },
  {
   "cell_type": "code",
   "execution_count": null,
   "metadata": {
    "collapsed": true
   },
   "outputs": [],
   "source": [
    "X_df = training_data[['first_arrest_criminiology_label']]\n",
    "\n",
    "# gives us dummy variables\n",
    "X_df = pd.get_dummies(X_df)\n",
    "X = X_df.as_matrix()\n",
    "\n",
    "Y_df = training_data[['arrested_again']]\n",
    "Y = Y_df.as_matrix()\n",
    "Y = Y.ravel()"
   ]
  },
  {
   "cell_type": "code",
   "execution_count": null,
   "metadata": {
    "collapsed": true
   },
   "outputs": [],
   "source": [
    "baseline_model_crime_types = LogisticRegression(penalty='l1', verbose=True)"
   ]
  },
  {
   "cell_type": "code",
   "execution_count": null,
   "metadata": {
    "collapsed": false
   },
   "outputs": [],
   "source": [
    "baseline_model_crime_types.fit(X, Y)"
   ]
  },
  {
   "cell_type": "code",
   "execution_count": null,
   "metadata": {
    "collapsed": false
   },
   "outputs": [],
   "source": [
    "# coefficient analysis (for interpretation)\n",
    "res = np.argsort(abs(baseline_model_crime_types.coef_))[0]\n",
    "res = res[::-1]\n",
    "print('bias: %f' % baseline_model_crime_types.intercept_)\n",
    "for coeff_index in res:\n",
    "    value = baseline_model_crime_types.coef_[0][coeff_index]\n",
    "    name = X_df.columns[coeff_index]\n",
    "    print('coefficient: %s  | value: %f' % (name, value))\n"
   ]
  },
  {
   "cell_type": "code",
   "execution_count": null,
   "metadata": {
    "collapsed": false
   },
   "outputs": [],
   "source": [
    "baseline_model_crime_types.score(X, Y)"
   ]
  },
  {
   "cell_type": "markdown",
   "metadata": {
    "collapsed": false
   },
   "source": [
    "## Incorporating Social Ties"
   ]
  },
  {
   "cell_type": "code",
   "execution_count": null,
   "metadata": {
    "collapsed": false
   },
   "outputs": [],
   "source": [
    "training_data.columns"
   ]
  },
  {
   "cell_type": "code",
   "execution_count": null,
   "metadata": {
    "collapsed": true
   },
   "outputs": [],
   "source": [
    "X_df = training_data[['first_arrest_SEXE','first_arrest_NCD1', 'first_arrest_MUN', \n",
    "                      'first_arrest_ED1', 'first_arrest_Adultes', 'first_arrest_Jeunes']]\n",
    "\n",
    "# gives us dummy variables\n",
    "X_df = pd.get_dummies(X_df)\n",
    "X = X_df.as_matrix()\n",
    "\n",
    "Y_df = training_data[['arrested_again']]\n",
    "Y = Y_df.as_matrix()\n",
    "Y = Y.ravel()"
   ]
  },
  {
   "cell_type": "code",
   "execution_count": null,
   "metadata": {
    "collapsed": true
   },
   "outputs": [],
   "source": [
    "model_with_social_data = LogisticRegression(penalty='l1', verbose=True)"
   ]
  },
  {
   "cell_type": "code",
   "execution_count": null,
   "metadata": {
    "collapsed": false
   },
   "outputs": [],
   "source": [
    "model_with_social_data.fit(X, Y)"
   ]
  },
  {
   "cell_type": "code",
   "execution_count": null,
   "metadata": {
    "collapsed": false
   },
   "outputs": [],
   "source": [
    "model_with_social_data.score(X, Y)"
   ]
  },
  {
   "cell_type": "code",
   "execution_count": null,
   "metadata": {
    "collapsed": false
   },
   "outputs": [],
   "source": [
    "X_df.columns[0:2]"
   ]
  },
  {
   "cell_type": "code",
   "execution_count": null,
   "metadata": {
    "collapsed": false
   },
   "outputs": [],
   "source": [
    "model_with_social_data.coef_[0:2]"
   ]
  },
  {
   "cell_type": "code",
   "execution_count": null,
   "metadata": {
    "collapsed": false
   },
   "outputs": [],
   "source": [
    "# coefficient analysis (for interpretation)\n",
    "res = np.argsort(abs(model_with_social_data.coef_))[0]\n",
    "res = res[::-1]\n",
    "print('bias: %f' % model_with_social_data.intercept_)\n",
    "for coeff_index in res[0:50]:\n",
    "    value = baseline_model.coef_[0][coeff_index]\n",
    "    name = X_df.columns[coeff_index]\n",
    "    print('coefficient: %s  | value: %f' % (name, value))"
   ]
  },
  {
   "cell_type": "markdown",
   "metadata": {
    "collapsed": true
   },
   "source": [
    "### Looking at specific types of crimes"
   ]
  },
  {
   "cell_type": "code",
   "execution_count": null,
   "metadata": {
    "collapsed": false
   },
   "outputs": [],
   "source": [
    "X_df = training_data[['first_arrest_NCD1']]\n",
    "\n",
    "# gives us dummy variables\n",
    "X_df = pd.get_dummies(X_df)\n",
    "X = X_df.as_matrix()\n",
    "\n",
    "Y_df = training_data[['arrested_again']]\n",
    "Y = Y_df.as_matrix()\n",
    "Y = Y.ravel()"
   ]
  },
  {
   "cell_type": "code",
   "execution_count": null,
   "metadata": {
    "collapsed": false
   },
   "outputs": [],
   "source": [
    "model_by_crime = LogisticRegression(penalty='l1', verbose=True)"
   ]
  },
  {
   "cell_type": "code",
   "execution_count": null,
   "metadata": {
    "collapsed": false
   },
   "outputs": [],
   "source": [
    "model_by_crime.fit(X, Y)"
   ]
  },
  {
   "cell_type": "code",
   "execution_count": null,
   "metadata": {
    "collapsed": false
   },
   "outputs": [],
   "source": [
    "model_by_crime.score(X,Y)"
   ]
  },
  {
   "cell_type": "code",
   "execution_count": null,
   "metadata": {
    "collapsed": false
   },
   "outputs": [],
   "source": [
    "# coefficient analysis (for interpretation)\n",
    "res = np.argsort(model_by_crime.coef_)[0]\n",
    "res = res[::-1]\n",
    "print('bias: %f' % model_by_crime.intercept_)\n",
    "for coeff_index in res[0:100]:\n",
    "    value = model_by_crime.coef_[0][coeff_index]\n",
    "    try:\n",
    "        crime_code = int(X_df.columns[coeff_index][18:])\n",
    "        crime_name = crime_labels.get_value(index=crime_code, col='text_description')\n",
    "    except KeyError:\n",
    "        crime_name = X_df.columns[coeff_index]\n",
    "    except ValueError:\n",
    "        pass\n",
    "    print('crime: %s  | coefficient: %f' % (crime_name, value))"
   ]
  },
  {
   "cell_type": "code",
   "execution_count": null,
   "metadata": {
    "collapsed": true
   },
   "outputs": [],
   "source": []
  }
 ],
 "metadata": {
  "kernelspec": {
   "display_name": "Python 3",
   "language": "python",
   "name": "python3"
  },
  "language_info": {
   "codemirror_mode": {
    "name": "ipython",
    "version": 3
   },
   "file_extension": ".py",
   "mimetype": "text/x-python",
   "name": "python",
   "nbconvert_exporter": "python",
   "pygments_lexer": "ipython3",
   "version": "3.6.0"
  }
 },
 "nbformat": 4,
 "nbformat_minor": 2
}
