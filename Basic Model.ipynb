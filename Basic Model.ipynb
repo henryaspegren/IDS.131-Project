{
 "cells": [
  {
   "cell_type": "code",
   "execution_count": 1,
   "metadata": {
    "collapsed": true
   },
   "outputs": [],
   "source": [
    "import pandas as pd\n",
    "import networkx as nx\n",
    "import numpy as np\n",
    "import matplotlib.pyplot as plt\n",
    "import datetime"
   ]
  },
  {
   "cell_type": "markdown",
   "metadata": {},
   "source": [
    "## Preprocessing "
   ]
  },
  {
   "cell_type": "code",
   "execution_count": null,
   "metadata": {
    "collapsed": false
   },
   "outputs": [],
   "source": [
    "co_offending_table = pd.read_csv('./Cooffending.csv')\n",
    "\n",
    "# Remove duplicate rows\n",
    "co_offending_table.drop_duplicates(inplace=True)\n",
    "\n",
    "# Format the date column as a python datetime object\n",
    "co_offending_table['Date'] = co_offending_table.Date.apply(lambda x: datetime.datetime.strptime(x, '%m/%d/%Y'))\n",
    "\n",
    "# Add a column for the number of arrests of each offender\n",
    "co_offending_table['ArrestCount'] = co_offending_table.groupby('NoUnique')['NoUnique'].transform('count')\n",
    "\n",
    "# Get the right datatype \n",
    "co_offending_table.SeqE = co_offending_table.SeqE.astype('category')\n",
    "co_offending_table.SEXE = co_offending_table.SEXE.astype('category')\n",
    "co_offending_table.NCD1 = co_offending_table.NCD1.astype('category')\n",
    "co_offending_table.NCD2 = co_offending_table.NCD2.astype('category')\n",
    "co_offending_table.NCD3 = co_offending_table.NCD3.astype('category')\n",
    "co_offending_table.NCD4 = co_offending_table.NCD4.astype('category')\n",
    "co_offending_table.MUN = co_offending_table.MUN.astype('category')\n",
    "co_offending_table.ED1 = co_offending_table.ED1.astype('category')"
   ]
  },
  {
   "cell_type": "code",
   "execution_count": null,
   "metadata": {
    "collapsed": true
   },
   "outputs": [],
   "source": [
    "def process_second_arrests(df):\n",
    "    if len(df) == 1: \n",
    "        return None\n",
    "    else:\n",
    "        return df.iloc[1]\n",
    "    \n",
    "def process_seq_numbers(x):\n",
    "    if np.isnan(x):\n",
    "        return 0\n",
    "    else:\n",
    "        return 1"
   ]
  },
  {
   "cell_type": "code",
   "execution_count": null,
   "metadata": {
    "collapsed": false
   },
   "outputs": [],
   "source": [
    "def build_table_of_first_two_arrests(co_offending):\n",
    "    # first sort by offender and date\n",
    "    co_offending = co_offending.sort_values(by=['NoUnique', 'Date'])\n",
    "    # this gets the first arrest of each offender (which is gauranteed to exist)\n",
    "    print('sorted')\n",
    "    first_arrest = co_offending.groupby('NoUnique').apply(lambda x: x.iloc[0])\n",
    "    first_arrest.columns = ['first_arrest_'+str(x) for x in first_arrest.columns]\n",
    "    print(first_arrest)\n",
    "    # this gets the second arrest of each offender or NaN if the offender does not exist\n",
    "    second_arrests = co_offending.groupby('NoUnique').apply(process_second_arrests)\n",
    "    second_arrests.columns = ['second_arrest_'+str(x) for x in second_arrests.columns]\n",
    "    print(second_arrests)\n",
    "    # combine these two dataframe \n",
    "    first_and_second_arrest_data = pd.merge(first_arrest, second_arrests, how='outer', left_index=True, right_index=True)\n",
    "    # add a column with a binary variable 0/1 for whether arrested again\n",
    "    first_and_second_arrest_data['arrested_again'] = first_and_second_arrest_data.second_arrest_NoUnique.apply(process_seq_numbers)\n",
    "    \n",
    "    \n",
    "    return first_and_second_arrest_data"
   ]
  },
  {
   "cell_type": "code",
   "execution_count": 90,
   "metadata": {
    "collapsed": false
   },
   "outputs": [],
   "source": [
    "#training_data = build_table_of_first_two_arrests(co_offending_table)\n",
    "\n",
    "# or read from csv\n",
    "training_data = pd.read_csv('./basic_model_data.csv')\n",
    "\n",
    "# format data\n",
    "training_data.first_arrest_SeqE = training_data.first_arrest_SeqE.astype('category')\n",
    "training_data.first_arrest_SEXE = training_data.first_arrest_SEXE.astype('category')\n",
    "training_data.first_arrest_NCD1 = training_data.first_arrest_NCD1.astype('category')\n",
    "training_data.first_arrest_NCD2 = training_data.first_arrest_NCD2.astype('category')\n",
    "training_data.first_arrest_NCD3 = training_data.first_arrest_NCD3.astype('category')\n",
    "training_data.first_arrest_NCD4 = training_data.first_arrest_NCD4.astype('category')\n",
    "training_data.first_arrest_MUN = training_data.first_arrest_MUN.astype('category')\n",
    "training_data.first_arrest_ED1 = training_data.first_arrest_ED1.astype('category')\n",
    "training_data.second_arrest_SeqE = training_data.second_arrest_SeqE.astype('category')\n",
    "training_data.second_arrest_SEXE = training_data.second_arrest_SEXE.astype('category')\n",
    "training_data.second_arrest_NCD1 = training_data.second_arrest_NCD1.astype('category')\n",
    "training_data.second_arrest_NCD2 = training_data.second_arrest_NCD2.astype('category')\n",
    "training_data.second_arrest_NCD3 = training_data.second_arrest_NCD3.astype('category')\n",
    "training_data.second_arrest_NCD4 = training_data.second_arrest_NCD4.astype('category')\n",
    "training_data.second_arrest_MUN = training_data.second_arrest_MUN.astype('category')\n",
    "training_data.second_arrest_ED1 = training_data.second_arrest_ED1.astype('category')"
   ]
  },
  {
   "cell_type": "code",
   "execution_count": 95,
   "metadata": {
    "collapsed": false
   },
   "outputs": [
    {
     "name": "stdout",
     "output_type": "stream",
     "text": [
      "raw recidivism rate: 0.341884\n"
     ]
    }
   ],
   "source": [
    "print('raw recidivism rate: %f' % (sum(training_data.arrested_again)/len(training_data.arrested_again)))"
   ]
  },
  {
   "cell_type": "code",
   "execution_count": 96,
   "metadata": {
    "collapsed": false
   },
   "outputs": [
    {
     "data": {
      "text/plain": [
       "Index(['NoUnique', 'first_arrest_NoUnique', 'first_arrest_Naissance',\n",
       "       'first_arrest_SEXE', 'first_arrest_SeqE', 'first_arrest_dateInf',\n",
       "       'first_arrest_NCD1', 'first_arrest_NCD2', 'first_arrest_NCD3',\n",
       "       'first_arrest_NCD4', 'first_arrest_MUN', 'first_arrest_ED1',\n",
       "       'first_arrest_Jeunes', 'first_arrest_Adultes', 'first_arrest_Date',\n",
       "       'first_arrest_annee', 'first_arrest_ArrestCount',\n",
       "       'second_arrest_NoUnique', 'second_arrest_Naissance',\n",
       "       'second_arrest_SEXE', 'second_arrest_SeqE', 'second_arrest_dateInf',\n",
       "       'second_arrest_NCD1', 'second_arrest_NCD2', 'second_arrest_NCD3',\n",
       "       'second_arrest_NCD4', 'second_arrest_MUN', 'second_arrest_ED1',\n",
       "       'second_arrest_Jeunes', 'second_arrest_Adultes', 'second_arrest_Date',\n",
       "       'second_arrest_annee', 'second_arrest_ArrestCount', 'arrested_again'],\n",
       "      dtype='object')"
      ]
     },
     "execution_count": 96,
     "metadata": {},
     "output_type": "execute_result"
    }
   ],
   "source": [
    "training_data.columns"
   ]
  },
  {
   "cell_type": "markdown",
   "metadata": {},
   "source": [
    "## Basic Model"
   ]
  },
  {
   "cell_type": "code",
   "execution_count": 97,
   "metadata": {
    "collapsed": false
   },
   "outputs": [],
   "source": [
    "X_df = training_data[['first_arrest_SEXE','first_arrest_NCD1', 'first_arrest_NCD2', 'first_arrest_NCD3',\n",
    "                      'first_arrest_NCD4', 'first_arrest_MUN', 'first_arrest_ED1']]\n",
    "\n",
    "# gives us dummy variables\n",
    "X_df = pd.get_dummies(X_df)\n",
    "X = X_df.as_matrix()\n",
    "\n",
    "Y_df = training_data[['arrested_again']]\n",
    "Y = Y_df.as_matrix()\n",
    "Y = Y.ravel()"
   ]
  },
  {
   "cell_type": "code",
   "execution_count": 98,
   "metadata": {
    "collapsed": false
   },
   "outputs": [
    {
     "name": "stdout",
     "output_type": "stream",
     "text": [
      "(539593, 2179) (539593,)\n"
     ]
    }
   ],
   "source": [
    "print(X.shape, Y.shape)"
   ]
  },
  {
   "cell_type": "code",
   "execution_count": 99,
   "metadata": {
    "collapsed": true
   },
   "outputs": [],
   "source": [
    "from sklearn.linear_model import LogisticRegression"
   ]
  },
  {
   "cell_type": "code",
   "execution_count": 100,
   "metadata": {
    "collapsed": true
   },
   "outputs": [],
   "source": [
    "baseline_model = LogisticRegression(penalty='l1')"
   ]
  },
  {
   "cell_type": "code",
   "execution_count": 101,
   "metadata": {
    "collapsed": false
   },
   "outputs": [
    {
     "data": {
      "text/plain": [
       "LogisticRegression(C=1.0, class_weight=None, dual=False, fit_intercept=True,\n",
       "          intercept_scaling=1, max_iter=100, multi_class='ovr', n_jobs=1,\n",
       "          penalty='l1', random_state=None, solver='liblinear', tol=0.0001,\n",
       "          verbose=0, warm_start=False)"
      ]
     },
     "execution_count": 101,
     "metadata": {},
     "output_type": "execute_result"
    }
   ],
   "source": [
    "baseline_model.fit(X, Y)"
   ]
  },
  {
   "cell_type": "code",
   "execution_count": 114,
   "metadata": {
    "collapsed": false
   },
   "outputs": [
    {
     "name": "stdout",
     "output_type": "stream",
     "text": [
      "bias: -0.198022\n",
      "coefficient: first_arrest_NCD3_32301  | value: 2.563165\n",
      "coefficient: first_arrest_NCD1_1360  | value: -2.480866\n",
      "coefficient: first_arrest_MUN_35906  | value: -2.183184\n",
      "coefficient: first_arrest_NCD4_3410  | value: 2.024439\n",
      "coefficient: first_arrest_NCD1_38401  | value: 1.986479\n",
      "coefficient: first_arrest_NCD1_6450  | value: 1.892725\n",
      "coefficient: first_arrest_NCD4_21701  | value: -1.882249\n",
      "coefficient: first_arrest_NCD2_3365  | value: -1.866170\n",
      "coefficient: first_arrest_NCD2_14551  | value: -1.706969\n",
      "coefficient: first_arrest_NCD1_16103  | value: 1.611319\n",
      "coefficient: first_arrest_NCD1_75003  | value: -1.598319\n",
      "coefficient: first_arrest_MUN_97806  | value: 1.580838\n",
      "coefficient: first_arrest_NCD1_3520  | value: 1.556186\n",
      "coefficient: first_arrest_NCD1_3410  | value: 1.553928\n",
      "coefficient: first_arrest_NCD1_21357  | value: 1.520572\n",
      "coefficient: first_arrest_NCD1_21354  | value: 1.504655\n",
      "coefficient: first_arrest_NCD1_14552  | value: -1.442569\n",
      "coefficient: first_arrest_MUN_79022  | value: -1.440423\n",
      "coefficient: first_arrest_NCD1_16701  | value: -1.423465\n",
      "coefficient: first_arrest_MUN_66062  | value: -1.416983\n"
     ]
    }
   ],
   "source": [
    "# coefficient analysis (for interpretation)\n",
    "res = np.argsort(abs(baseline_model.coef_))[0]\n",
    "res = res[::-1]\n",
    "print('bias: %f' % baseline_model.intercept_)\n",
    "for coeff_index in res[0:20]:\n",
    "    value = baseline_model.coef_[0][coeff_index]\n",
    "    name = X_df.columns[coeff_index]\n",
    "    print('coefficient: %s  | value: %f' % (name, value))\n"
   ]
  },
  {
   "cell_type": "code",
   "execution_count": 110,
   "metadata": {
    "collapsed": false
   },
   "outputs": [
    {
     "data": {
      "text/plain": [
       "0.6876534721540124"
      ]
     },
     "execution_count": 110,
     "metadata": {},
     "output_type": "execute_result"
    }
   ],
   "source": [
    "baseline_model.score(X, Y)"
   ]
  },
  {
   "cell_type": "code",
   "execution_count": 111,
   "metadata": {
    "collapsed": false
   },
   "outputs": [
    {
     "data": {
      "text/plain": [
       "0.6581163951348517"
      ]
     },
     "execution_count": 111,
     "metadata": {},
     "output_type": "execute_result"
    }
   ],
   "source": [
    "1-0.34188360486514835"
   ]
  },
  {
   "cell_type": "code",
   "execution_count": null,
   "metadata": {
    "collapsed": true
   },
   "outputs": [],
   "source": []
  }
 ],
 "metadata": {
  "kernelspec": {
   "display_name": "Python 3",
   "language": "python",
   "name": "python3"
  },
  "language_info": {
   "codemirror_mode": {
    "name": "ipython",
    "version": 3
   },
   "file_extension": ".py",
   "mimetype": "text/x-python",
   "name": "python",
   "nbconvert_exporter": "python",
   "pygments_lexer": "ipython3",
   "version": "3.6.0"
  }
 },
 "nbformat": 4,
 "nbformat_minor": 2
}
