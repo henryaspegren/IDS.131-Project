{
 "cells": [
  {
   "cell_type": "code",
   "execution_count": 1,
   "metadata": {
    "collapsed": true
   },
   "outputs": [],
   "source": [
    "import pandas as pd\n",
    "import networkx as nx\n",
    "import numpy as np\n",
    "import matplotlib.pyplot as plt\n",
    "import datetime, re, pickle\n",
    "from sklearn.linear_model import LogisticRegression"
   ]
  },
  {
   "cell_type": "code",
   "execution_count": 2,
   "metadata": {
    "collapsed": true
   },
   "outputs": [],
   "source": [
    "PROCESSED_DATASET_CSV_FILE = './processed_datasets/basic_model.csv'\n",
    "PROCESSED_DATASET_PKL_FILE = './processed_datasets/basic_model.pkl'\n",
    "RAW_COFFENDING_CSV_FILE = './raw_datasets/Cooffending.csv'\n",
    "PROCESSED_CRIME_LABEL_CSV_FILE = './processed_datasets/crime_type_mapping.csv'\n",
    "PROCESSED_CRIME_LABEL_PKL_FILE = './processed_datasets/crime_type_mapping.pkl'\n"
   ]
  },
  {
   "cell_type": "markdown",
   "metadata": {},
   "source": [
    "## Load Preprocessed Data\n"
   ]
  },
  {
   "cell_type": "code",
   "execution_count": 3,
   "metadata": {
    "collapsed": false
   },
   "outputs": [
    {
     "ename": "FileNotFoundError",
     "evalue": "[Errno 2] No such file or directory: './processed_datasets/basic_model.pkl'",
     "output_type": "error",
     "traceback": [
      "\u001b[0;31m---------------------------------------------------------------------------\u001b[0m",
      "\u001b[0;31mFileNotFoundError\u001b[0m                         Traceback (most recent call last)",
      "\u001b[0;32m<ipython-input-3-669a302e23a7>\u001b[0m in \u001b[0;36m<module>\u001b[0;34m()\u001b[0m\n\u001b[1;32m      1\u001b[0m \u001b[0mtraining_data\u001b[0m \u001b[0;34m=\u001b[0m \u001b[0;32mNone\u001b[0m\u001b[0;34m\u001b[0m\u001b[0m\n\u001b[0;32m----> 2\u001b[0;31m \u001b[0;32mwith\u001b[0m \u001b[0mopen\u001b[0m\u001b[0;34m(\u001b[0m\u001b[0mPROCESSED_DATASET_PKL_FILE\u001b[0m\u001b[0;34m,\u001b[0m \u001b[0;34m'rb'\u001b[0m\u001b[0;34m)\u001b[0m \u001b[0;32mas\u001b[0m \u001b[0mfile_obj\u001b[0m\u001b[0;34m:\u001b[0m\u001b[0;34m\u001b[0m\u001b[0m\n\u001b[0m\u001b[1;32m      3\u001b[0m     \u001b[0mtraining_data\u001b[0m \u001b[0;34m=\u001b[0m \u001b[0mpickle\u001b[0m\u001b[0;34m.\u001b[0m\u001b[0mload\u001b[0m\u001b[0;34m(\u001b[0m\u001b[0mfile_obj\u001b[0m\u001b[0;34m)\u001b[0m\u001b[0;34m\u001b[0m\u001b[0m\n",
      "\u001b[0;31mFileNotFoundError\u001b[0m: [Errno 2] No such file or directory: './processed_datasets/basic_model.pkl'"
     ]
    }
   ],
   "source": [
    "training_data = None\n",
    "with open(PROCESSED_DATASET_PKL_FILE, 'rb') as file_obj:\n",
    "    training_data = pickle.load(file_obj)"
   ]
  },
  {
   "cell_type": "markdown",
   "metadata": {},
   "source": [
    "## Preprocessing (*skip this if you just want to use the post-processed data*)"
   ]
  },
  {
   "cell_type": "code",
   "execution_count": 4,
   "metadata": {
    "collapsed": false
   },
   "outputs": [],
   "source": [
    "co_offending_table = pd.read_csv(RAW_COFFENDING_CSV_FILE)\n",
    "\n",
    "# Remove duplicate rows\n",
    "co_offending_table.drop_duplicates(inplace=True)\n",
    "\n",
    "# Format the date column as a python datetime object\n",
    "co_offending_table['Date'] = co_offending_table.Date.apply(lambda x: datetime.datetime.strptime(x, '%m/%d/%Y'))\n",
    "\n",
    "# Add a column for the number of arrests of each offender\n",
    "co_offending_table['ArrestCount'] = co_offending_table.groupby('NoUnique')['SeqE'].transform('count')"
   ]
  },
  {
   "cell_type": "code",
   "execution_count": 5,
   "metadata": {
    "collapsed": true
   },
   "outputs": [],
   "source": [
    "crime_labels = None\n",
    "with open(PROCESSED_CRIME_LABEL_PKL_FILE, 'rb') as file_obj:\n",
    "    crime_labels = pickle.load(file_obj)"
   ]
  },
  {
   "cell_type": "code",
   "execution_count": 6,
   "metadata": {
    "collapsed": true
   },
   "outputs": [],
   "source": [
    "def process_second_arrests(df):\n",
    "    if len(df) == 1: \n",
    "        return None\n",
    "    else:\n",
    "        return df.iloc[1]\n",
    "    \n",
    "def process_seq_numbers(x):\n",
    "    if np.isnan(x):\n",
    "        return 0\n",
    "    else:\n",
    "        return 1"
   ]
  },
  {
   "cell_type": "code",
   "execution_count": null,
   "metadata": {
    "collapsed": false
   },
   "outputs": [],
   "source": [
    "def build_table_of_first_two_arrests(co_offending):\n",
    "    # first sort by offender and date\n",
    "    co_offending = co_offending.sort_values(by=['NoUnique', 'Date'])\n",
    "    # this gets the first arrest of each offender (which is gauranteed to exist)\n",
    "    print('sorted')\n",
    "    first_arrest = co_offending.groupby('NoUnique').apply(lambda x: x.iloc[0])\n",
    "    first_arrest.columns = ['first_arrest_'+str(x) for x in first_arrest.columns]\n",
    "    print(first_arrest)\n",
    "    # this gets the second arrest of each offender or NaN if the offender does not exist\n",
    "    second_arrests = co_offending.groupby('NoUnique').apply(process_second_arrests)\n",
    "    second_arrests.columns = ['second_arrest_'+str(x) for x in second_arrests.columns]\n",
    "    print(second_arrests)\n",
    "    # combine these two dataframe \n",
    "    first_and_second_arrest_data = pd.merge(first_arrest, second_arrests, how='outer', left_index=True, right_index=True)\n",
    "    # add a column with a binary variable 0/1 for whether arrested again\n",
    "    first_and_second_arrest_data['arrested_again'] = first_and_second_arrest_data.second_arrest_NoUnique.apply(process_seq_numbers)\n",
    "    \n",
    "    \n",
    "    return first_and_second_arrest_data"
   ]
  },
  {
   "cell_type": "code",
   "execution_count": null,
   "metadata": {
    "collapsed": false
   },
   "outputs": [
    {
     "name": "stdout",
     "output_type": "stream",
     "text": [
      "sorted\n"
     ]
    }
   ],
   "source": [
    "# build data frame\n",
    "training_data = build_table_of_first_two_arrests(co_offending_table)\n",
    "\n",
    "# format data\n",
    "training_data.first_arrest_SeqE = training_data.first_arrest_SeqE.astype('category')\n",
    "training_data.first_arrest_SEXE = training_data.first_arrest_SEXE.astype('category')\n",
    "training_data.first_arrest_NCD1 = training_data.first_arrest_NCD1.astype('category')\n",
    "training_data.first_arrest_NCD2 = training_data.first_arrest_NCD2.astype('category')\n",
    "training_data.first_arrest_NCD3 = training_data.first_arrest_NCD3.astype('category')\n",
    "training_data.first_arrest_NCD4 = training_data.first_arrest_NCD4.astype('category')\n",
    "training_data.first_arrest_MUN = training_data.first_arrest_MUN.astype('category')\n",
    "training_data.first_arrest_ED1 = training_data.first_arrest_ED1.astype('category')\n",
    "training_data.second_arrest_SeqE = training_data.second_arrest_SeqE.astype('category')\n",
    "training_data.second_arrest_SEXE = training_data.second_arrest_SEXE.astype('category')\n",
    "training_data.second_arrest_NCD1 = training_data.second_arrest_NCD1.astype('category')\n",
    "training_data.second_arrest_NCD2 = training_data.second_arrest_NCD2.astype('category')\n",
    "training_data.second_arrest_NCD3 = training_data.second_arrest_NCD3.astype('category')\n",
    "training_data.second_arrest_NCD4 = training_data.second_arrest_NCD4.astype('category')\n",
    "training_data.second_arrest_MUN = training_data.second_arrest_MUN.astype('category')\n",
    "training_data.second_arrest_ED1 = training_data.second_arrest_ED1.astype('category')\n"
   ]
  },
  {
   "cell_type": "code",
   "execution_count": null,
   "metadata": {
    "collapsed": false
   },
   "outputs": [],
   "source": [
    "def get_arrest_label(x, crime_label_attribute):\n",
    "    if x != ' ' and not (x is None):\n",
    "        return crime_labels.get_value(index=int(x), col=crime_label_attribute)\n",
    "    else:\n",
    "        return 0\n",
    "\n",
    "training_data['first_arrest_criminiology_label'] = training_data['first_arrest_NCD1'].apply(lambda x: get_arrest_label(x, 'criminology_category'))\n",
    "training_data['first_arrest_group_crime_label'] = training_data['first_arrest_NCD1'].apply(lambda x: get_arrest_label(x, 'group_crime'))\n",
    "training_data['first_arrest_drug_crime_label'] = training_data['first_arrest_NCD1'].apply(lambda x: get_arrest_label(x, 'drug_crime'))\n",
    "training_data['first_arrest_drug_usage_label'] = training_data['first_arrest_NCD1'].apply(lambda x: get_arrest_label(x, 'drug_usage'))\n",
    "training_data['first_arrest_drug_trafficking_label'] = training_data['first_arrest_NCD1'].apply(lambda x: get_arrest_label(x, 'drug_trafficking'))\n",
    "\n",
    "\n",
    "training_data['second_arrest_criminiology_label'] = training_data['second_arrest_NCD1'].apply(lambda x: get_arrest_label(x, 'criminology_category'))\n",
    "training_data['second_arrest_group_crime_label'] = training_data['second_arrest_NCD1'].apply(lambda x: get_arrest_label(x, 'group_crime'))\n",
    "training_data['second_arrest_drug_crime_label'] = training_data['second_arrest_NCD1'].apply(lambda x: get_arrest_label(x, 'drug_crime'))\n",
    "training_data['second_arrest_drug_usage_label'] = training_data['second_arrest_NCD1'].apply(lambda x: get_arrest_label(x, 'drug_usage'))\n",
    "training_data['second_arrest_drug_trafficking_label'] = training_data['second_arrest_NCD1'].apply(lambda x: get_arrest_label(x, 'drug_trafficking'))\n",
    "\n",
    "\n",
    "\n",
    "\n",
    "training_data.first_arrest_criminiology_label = training_data.first_arrest_criminiology_label.astype('category')\n",
    "training_data.first_arrest_group_crime_label = training_data.first_arrest_group_crime_label.astype('int')\n",
    "training_data.first_arrest_drug_crime_label = training_data.first_arrest_drug_crime_label.astype('int')\n",
    "training_data.first_arrest_drug_usage_label = training_data.first_arrest_drug_usage_label.astype('int')\n",
    "training_data.first_arrest_drug_trafficking_label = training_data.first_arrest_drug_trafficking_label.astype('int')\n",
    "\n",
    "training_data.second_arrest_criminiology_label = training_data.second_arrest_criminiology_label.astype('category')\n",
    "training_data.second_arrest_group_crime_label = training_data.second_arrest_group_crime_label.astype('int')\n",
    "training_data.second_arrest_drug_crime_label = training_data.second_arrest_drug_crime_label.astype('int')\n",
    "training_data.second_arrest_drug_usage_label = training_data.second_arrest_drug_usage_label.astype('int')\n",
    "training_data.second_arrest_drug_trafficking_label = training_data.second_arrest_drug_trafficking_label.astype('int')"
   ]
  },
  {
   "cell_type": "code",
   "execution_count": null,
   "metadata": {
    "collapsed": false
   },
   "outputs": [],
   "source": [
    "## save the whole thing\n",
    "training_data.to_csv(PROCESSED_DATASET_CSV_FILE)\n",
    "\n",
    "with open(PROCESSED_DATASET_PKL_FILE, 'wb') as file_obj:\n",
    "    pickle.dump(training_data, file=file_obj)\n"
   ]
  },
  {
   "cell_type": "markdown",
   "metadata": {},
   "source": [
    "## Overview of Data"
   ]
  },
  {
   "cell_type": "code",
   "execution_count": 6,
   "metadata": {
    "collapsed": false
   },
   "outputs": [
    {
     "data": {
      "text/plain": [
       "first_arrest_NoUnique                            int64\n",
       "first_arrest_Naissance                           int64\n",
       "first_arrest_SEXE                             category\n",
       "first_arrest_SeqE                             category\n",
       "first_arrest_dateInf                             int64\n",
       "first_arrest_NCD1                             category\n",
       "first_arrest_NCD2                             category\n",
       "first_arrest_NCD3                             category\n",
       "first_arrest_NCD4                             category\n",
       "first_arrest_MUN                              category\n",
       "first_arrest_ED1                              category\n",
       "first_arrest_Jeunes                              int64\n",
       "first_arrest_Adultes                             int64\n",
       "first_arrest_Date                       datetime64[ns]\n",
       "first_arrest_annee                               int64\n",
       "first_arrest_ArrestCount                         int64\n",
       "second_arrest_NoUnique                         float64\n",
       "second_arrest_Naissance                        float64\n",
       "second_arrest_SEXE                            category\n",
       "second_arrest_SeqE                            category\n",
       "second_arrest_dateInf                          float64\n",
       "second_arrest_NCD1                            category\n",
       "second_arrest_NCD2                            category\n",
       "second_arrest_NCD3                            category\n",
       "second_arrest_NCD4                            category\n",
       "second_arrest_MUN                             category\n",
       "second_arrest_ED1                             category\n",
       "second_arrest_Jeunes                           float64\n",
       "second_arrest_Adultes                          float64\n",
       "second_arrest_Date                      datetime64[ns]\n",
       "second_arrest_annee                            float64\n",
       "second_arrest_ArrestCount                      float64\n",
       "arrested_again                                   int64\n",
       "first_arrest_criminiology_label               category\n",
       "first_arrest_group_crime_label                   int64\n",
       "first_arrest_drug_crime_label                    int64\n",
       "first_arrest_drug_usage_label                    int64\n",
       "first_arrest_drug_trafficking_label              int64\n",
       "second_arrest_criminiology_label              category\n",
       "second_arrest_group_crime_label                  int64\n",
       "second_arrest_drug_crime_label                   int64\n",
       "second_arrest_drug_usage_label                   int64\n",
       "second_arrest_drug_trafficking_label             int64\n",
       "dtype: object"
      ]
     },
     "execution_count": 6,
     "metadata": {},
     "output_type": "execute_result"
    }
   ],
   "source": [
    "training_data.dtypes"
   ]
  },
  {
   "cell_type": "code",
   "execution_count": 7,
   "metadata": {
    "collapsed": false
   },
   "outputs": [
    {
     "data": {
      "text/plain": [
       "(539593, 43)"
      ]
     },
     "execution_count": 7,
     "metadata": {},
     "output_type": "execute_result"
    }
   ],
   "source": [
    "training_data.shape"
   ]
  },
  {
   "cell_type": "markdown",
   "metadata": {},
   "source": [
    "## Basic Model"
   ]
  },
  {
   "cell_type": "code",
   "execution_count": 8,
   "metadata": {
    "collapsed": false
   },
   "outputs": [
    {
     "name": "stdout",
     "output_type": "stream",
     "text": [
      "raw recidivism rate: 0.341884\n"
     ]
    }
   ],
   "source": [
    "print('raw recidivism rate: %f' % (sum(training_data.arrested_again)/len(training_data.arrested_again)))"
   ]
  },
  {
   "cell_type": "code",
   "execution_count": 10,
   "metadata": {
    "collapsed": false
   },
   "outputs": [],
   "source": [
    "X_df = training_data[['first_arrest_SEXE','first_arrest_NCD1', 'first_arrest_MUN', 'first_arrest_ED1']]\n",
    "\n",
    "# gives us dummy variables\n",
    "X_df = pd.get_dummies(X_df)\n",
    "X = X_df.as_matrix()\n",
    "\n",
    "Y_df = training_data[['arrested_again']]\n",
    "Y = Y_df.as_matrix()\n",
    "Y = Y.ravel()"
   ]
  },
  {
   "cell_type": "code",
   "execution_count": 11,
   "metadata": {
    "collapsed": false
   },
   "outputs": [
    {
     "name": "stdout",
     "output_type": "stream",
     "text": [
      "(539593, 1720) (539593,)\n"
     ]
    }
   ],
   "source": [
    "print(X.shape, Y.shape)"
   ]
  },
  {
   "cell_type": "code",
   "execution_count": 12,
   "metadata": {
    "collapsed": false
   },
   "outputs": [],
   "source": [
    "baseline_model = LogisticRegression(penalty='l1', verbose=True)"
   ]
  },
  {
   "cell_type": "code",
   "execution_count": 13,
   "metadata": {
    "collapsed": false
   },
   "outputs": [
    {
     "name": "stdout",
     "output_type": "stream",
     "text": [
      "[LibLinear]"
     ]
    },
    {
     "data": {
      "text/plain": [
       "LogisticRegression(C=1.0, class_weight=None, dual=False, fit_intercept=True,\n",
       "          intercept_scaling=1, max_iter=100, multi_class='ovr', n_jobs=1,\n",
       "          penalty='l1', random_state=None, solver='liblinear', tol=0.0001,\n",
       "          verbose=True, warm_start=False)"
      ]
     },
     "execution_count": 13,
     "metadata": {},
     "output_type": "execute_result"
    }
   ],
   "source": [
    "baseline_model.fit(X, Y)"
   ]
  },
  {
   "cell_type": "code",
   "execution_count": 14,
   "metadata": {
    "collapsed": false
   },
   "outputs": [
    {
     "name": "stdout",
     "output_type": "stream",
     "text": [
      "bias: -0.166892\n",
      "coefficient: first_arrest_NCD1_1360  | value: -2.521032\n",
      "coefficient: first_arrest_MUN_35906  | value: -2.205536\n",
      "coefficient: first_arrest_NCD1_38401  | value: 1.944629\n",
      "coefficient: first_arrest_NCD1_6450  | value: 1.716849\n",
      "coefficient: first_arrest_NCD1_75003  | value: -1.689019\n",
      "coefficient: first_arrest_MUN_79020  | value: 1.679443\n",
      "coefficient: first_arrest_NCD1_16103  | value: 1.659428\n",
      "coefficient: first_arrest_NCD1_4430  | value: -1.616540\n",
      "coefficient: first_arrest_NCD1_21354  | value: 1.591024\n",
      "coefficient: first_arrest_MUN_97806  | value: 1.527043\n",
      "coefficient: first_arrest_MUN_89005  | value: 1.484777\n",
      "coefficient: first_arrest_NCD1_21357  | value: 1.444198\n",
      "coefficient: first_arrest_NCD1_16701  | value: -1.419969\n",
      "coefficient: first_arrest_NCD1_71009  | value: -1.400631\n",
      "coefficient: first_arrest_MUN_83802  | value: -1.387462\n",
      "coefficient: first_arrest_NCD1_71002  | value: -1.384726\n",
      "coefficient: first_arrest_MUN_88045  | value: -1.377395\n",
      "coefficient: first_arrest_NCD1_3520  | value: 1.350213\n",
      "coefficient: first_arrest_MUN_29020  | value: -1.343354\n",
      "coefficient: first_arrest_NCD1_16106  | value: 1.305441\n",
      "coefficient: first_arrest_MUN_38020  | value: -1.280009\n",
      "coefficient: first_arrest_MUN_78028  | value: 1.207867\n",
      "coefficient: first_arrest_NCD1_37901  | value: -1.206324\n",
      "coefficient: first_arrest_NCD1_34553  | value: -1.199580\n",
      "coefficient: first_arrest_NCD1_38403  | value: 1.195065\n",
      "coefficient: first_arrest_NCD1_14552  | value: -1.182181\n",
      "coefficient: first_arrest_MUN_83025  | value: 1.173104\n",
      "coefficient: first_arrest_MUN_1030  | value: 1.164196\n",
      "coefficient: first_arrest_MUN_84100  | value: -1.163833\n",
      "coefficient: first_arrest_NCD1_16102  | value: 1.155360\n",
      "coefficient: first_arrest_MUN_84090  | value: -1.153841\n",
      "coefficient: first_arrest_NCD1_8120  | value: -1.153671\n",
      "coefficient: first_arrest_MUN_50035  | value: -1.135950\n",
      "coefficient: first_arrest_NCD1_34552  | value: -1.134911\n",
      "coefficient: first_arrest_NCD1_21352  | value: 1.123160\n",
      "coefficient: first_arrest_MUN_36028  | value: 1.120118\n",
      "coefficient: first_arrest_MUN_2045  | value: 1.117275\n",
      "coefficient: first_arrest_NCD1_73099  | value: -1.110361\n",
      "coefficient: first_arrest_NCD1_3370  | value: 1.108822\n",
      "coefficient: first_arrest_MUN_1025  | value: 1.105014\n",
      "coefficient: first_arrest_NCD1_21356  | value: 1.101845\n",
      "coefficient: first_arrest_NCD1_16104  | value: 1.088013\n",
      "coefficient: first_arrest_MUN_58037  | value: -1.077187\n",
      "coefficient: first_arrest_MUN_70045  | value: 1.064599\n",
      "coefficient: first_arrest_MUN_89902  | value: 1.059828\n",
      "coefficient: first_arrest_NCD1_74001  | value: -1.055438\n",
      "coefficient: first_arrest_NCD1_21301  | value: 1.053665\n",
      "coefficient: first_arrest_MUN_30020  | value: -1.045950\n",
      "coefficient: first_arrest_MUN_2030  | value: 1.036174\n",
      "coefficient: first_arrest_NCD1_42601  | value: -1.036103\n"
     ]
    }
   ],
   "source": [
    "# coefficient analysis (for interpretation)\n",
    "res = np.argsort(abs(baseline_model.coef_))[0]\n",
    "res = res[::-1]\n",
    "print('bias: %f' % baseline_model.intercept_)\n",
    "for coeff_index in res[0:50]:\n",
    "    value = baseline_model.coef_[0][coeff_index]\n",
    "    name = X_df.columns[coeff_index]\n",
    "    print('coefficient: %s  | value: %f' % (name, value))\n"
   ]
  },
  {
   "cell_type": "code",
   "execution_count": 15,
   "metadata": {
    "collapsed": false
   },
   "outputs": [
    {
     "data": {
      "text/plain": [
       "0.67742724609103533"
      ]
     },
     "execution_count": 15,
     "metadata": {},
     "output_type": "execute_result"
    }
   ],
   "source": [
    "baseline_model.score(X, Y)"
   ]
  },
  {
   "cell_type": "markdown",
   "metadata": {},
   "source": [
    "## Basic Model with Crime Class Labels"
   ]
  },
  {
   "cell_type": "code",
   "execution_count": 16,
   "metadata": {
    "collapsed": true
   },
   "outputs": [],
   "source": [
    "X_df = training_data[['first_arrest_criminiology_label']]\n",
    "\n",
    "# gives us dummy variables\n",
    "X_df = pd.get_dummies(X_df)\n",
    "X = X_df.as_matrix()\n",
    "\n",
    "Y_df = training_data[['arrested_again']]\n",
    "Y = Y_df.as_matrix()\n",
    "Y = Y.ravel()"
   ]
  },
  {
   "cell_type": "code",
   "execution_count": 17,
   "metadata": {
    "collapsed": true
   },
   "outputs": [],
   "source": [
    "baseline_model_crime_types = LogisticRegression(penalty='l1', verbose=True)"
   ]
  },
  {
   "cell_type": "code",
   "execution_count": 18,
   "metadata": {
    "collapsed": false
   },
   "outputs": [
    {
     "name": "stdout",
     "output_type": "stream",
     "text": [
      "[LibLinear]"
     ]
    },
    {
     "data": {
      "text/plain": [
       "LogisticRegression(C=1.0, class_weight=None, dual=False, fit_intercept=True,\n",
       "          intercept_scaling=1, max_iter=100, multi_class='ovr', n_jobs=1,\n",
       "          penalty='l1', random_state=None, solver='liblinear', tol=0.0001,\n",
       "          verbose=True, warm_start=False)"
      ]
     },
     "execution_count": 18,
     "metadata": {},
     "output_type": "execute_result"
    }
   ],
   "source": [
    "baseline_model_crime_types.fit(X, Y)"
   ]
  },
  {
   "cell_type": "code",
   "execution_count": 19,
   "metadata": {
    "collapsed": false
   },
   "outputs": [
    {
     "name": "stdout",
     "output_type": "stream",
     "text": [
      "bias: -0.635026\n",
      "coefficient: first_arrest_criminiology_label_0  | value: -1.101876\n",
      "coefficient: first_arrest_criminiology_label_x  | value: -0.293765\n",
      "coefficient: first_arrest_criminiology_label_3  | value: 0.185365\n",
      "coefficient: first_arrest_criminiology_label_2  | value: 0.175330\n",
      "coefficient: first_arrest_criminiology_label_1  | value: -0.000696\n"
     ]
    }
   ],
   "source": [
    "# coefficient analysis (for interpretation)\n",
    "res = np.argsort(abs(baseline_model_crime_types.coef_))[0]\n",
    "res = res[::-1]\n",
    "print('bias: %f' % baseline_model_crime_types.intercept_)\n",
    "for coeff_index in res:\n",
    "    value = baseline_model_crime_types.coef_[0][coeff_index]\n",
    "    name = X_df.columns[coeff_index]\n",
    "    print('coefficient: %s  | value: %f' % (name, value))\n"
   ]
  },
  {
   "cell_type": "code",
   "execution_count": 20,
   "metadata": {
    "collapsed": false
   },
   "outputs": [
    {
     "data": {
      "text/plain": [
       "0.65811639513485165"
      ]
     },
     "execution_count": 20,
     "metadata": {},
     "output_type": "execute_result"
    }
   ],
   "source": [
    "baseline_model_crime_types.score(X, Y)"
   ]
  },
  {
   "cell_type": "markdown",
   "metadata": {
    "collapsed": false
   },
   "source": [
    "## Incorporating Social Ties"
   ]
  },
  {
   "cell_type": "code",
   "execution_count": 22,
   "metadata": {
    "collapsed": true
   },
   "outputs": [],
   "source": [
    "X_df = training_data[['first_arrest_SEXE','first_arrest_NCD1', 'first_arrest_MUN', \n",
    "                      'first_arrest_ED1', 'first_arrest_Adultes', 'first_arrest_Jeunes']]\n",
    "\n",
    "# gives us dummy variables\n",
    "X_df = pd.get_dummies(X_df)\n",
    "X = X_df.as_matrix()\n",
    "\n",
    "Y_df = training_data[['arrested_again']]\n",
    "Y = Y_df.as_matrix()\n",
    "Y = Y.ravel()"
   ]
  },
  {
   "cell_type": "code",
   "execution_count": 23,
   "metadata": {
    "collapsed": true
   },
   "outputs": [],
   "source": [
    "model_with_social_data = LogisticRegression(penalty='l1', verbose=True)"
   ]
  },
  {
   "cell_type": "code",
   "execution_count": 24,
   "metadata": {
    "collapsed": false
   },
   "outputs": [
    {
     "name": "stdout",
     "output_type": "stream",
     "text": [
      "[LibLinear]"
     ]
    },
    {
     "data": {
      "text/plain": [
       "LogisticRegression(C=1.0, class_weight=None, dual=False, fit_intercept=True,\n",
       "          intercept_scaling=1, max_iter=100, multi_class='ovr', n_jobs=1,\n",
       "          penalty='l1', random_state=None, solver='liblinear', tol=0.0001,\n",
       "          verbose=True, warm_start=False)"
      ]
     },
     "execution_count": 24,
     "metadata": {},
     "output_type": "execute_result"
    }
   ],
   "source": [
    "model_with_social_data.fit(X, Y)"
   ]
  },
  {
   "cell_type": "code",
   "execution_count": 25,
   "metadata": {
    "collapsed": false
   },
   "outputs": [
    {
     "data": {
      "text/plain": [
       "0.6774216863450786"
      ]
     },
     "execution_count": 25,
     "metadata": {},
     "output_type": "execute_result"
    }
   ],
   "source": [
    "model_with_social_data.score(X, Y)"
   ]
  },
  {
   "cell_type": "code",
   "execution_count": 26,
   "metadata": {
    "collapsed": false
   },
   "outputs": [
    {
     "name": "stdout",
     "output_type": "stream",
     "text": [
      "bias: -0.364120\n",
      "coefficient: first_arrest_NCD1_1360  | value: -0.469234\n",
      "coefficient: first_arrest_NCD1_38401  | value: 1.195065\n",
      "coefficient: first_arrest_MUN_35906  | value: 1.120118\n",
      "coefficient: first_arrest_NCD1_38403  | value: -0.157494\n",
      "coefficient: first_arrest_NCD1_75003  | value: 0.000000\n",
      "coefficient: first_arrest_MUN_79020  | value: 0.028510\n",
      "coefficient: first_arrest_NCD1_6450  | value: -0.590019\n",
      "coefficient: first_arrest_NCD1_4430  | value: -0.346509\n",
      "coefficient: first_arrest_NCD1_16103  | value: 0.000000\n",
      "coefficient: first_arrest_NCD1_21354  | value: 1.101845\n",
      "coefficient: first_arrest_MUN_97806  | value: 0.000000\n",
      "coefficient: first_arrest_MUN_89005  | value: 0.000000\n",
      "coefficient: first_arrest_NCD1_71009  | value: -0.753185\n",
      "coefficient: first_arrest_NCD1_16701  | value: 0.057124\n",
      "coefficient: first_arrest_NCD1_21357  | value: 0.892312\n",
      "coefficient: first_arrest_MUN_83802  | value: 0.011393\n",
      "coefficient: first_arrest_MUN_88045  | value: 0.096740\n",
      "coefficient: first_arrest_NCD1_71002  | value: -0.914174\n",
      "coefficient: first_arrest_MUN_29020  | value: 0.182905\n",
      "coefficient: first_arrest_NCD1_3520  | value: -0.748613\n",
      "coefficient: first_arrest_MUN_38020  | value: -0.315192\n",
      "coefficient: first_arrest_NCD1_16106  | value: 0.184426\n",
      "coefficient: first_arrest_NCD1_34553  | value: -0.209608\n",
      "coefficient: first_arrest_MUN_84090  | value: -1.163833\n",
      "coefficient: first_arrest_NCD1_14552  | value: 0.650354\n",
      "coefficient: first_arrest_MUN_78028  | value: 0.480746\n",
      "coefficient: first_arrest_NCD1_8120  | value: -0.284359\n",
      "coefficient: first_arrest_MUN_1030  | value: 0.000000\n",
      "coefficient: first_arrest_MUN_83025  | value: -0.129056\n",
      "coefficient: first_arrest_MUN_84100  | value: -0.508115\n",
      "coefficient: first_arrest_NCD1_73099  | value: 0.000000\n",
      "coefficient: first_arrest_MUN_50035  | value: 0.000000\n",
      "coefficient: first_arrest_MUN_36028  | value: 0.000000\n",
      "coefficient: first_arrest_MUN_2045  | value: 0.254696\n",
      "coefficient: first_arrest_NCD1_16102  | value: 1.088013\n",
      "coefficient: first_arrest_NCD1_74001  | value: -0.400320\n",
      "coefficient: first_arrest_MUN_1025  | value: 0.000000\n",
      "coefficient: first_arrest_NCD1_21352  | value: 1.591024\n",
      "coefficient: first_arrest_NCD1_42601  | value: -0.222771\n",
      "coefficient: first_arrest_NCD1_3370  | value: -0.139475\n",
      "coefficient: first_arrest_MUN_58037  | value: -0.069290\n",
      "coefficient: first_arrest_MUN_89902  | value: 0.000000\n",
      "coefficient: first_arrest_MUN_70045  | value: 0.027859\n",
      "coefficient: first_arrest_NCD1_21356  | value: 0.679569\n",
      "coefficient: first_arrest_NCD1_37901  | value: 0.000000\n",
      "coefficient: first_arrest_NCD1_16104  | value: 1.305441\n",
      "coefficient: first_arrest_NCD1_34552  | value: -0.662760\n",
      "coefficient: first_arrest_MUN_30020  | value: 0.158427\n",
      "coefficient: first_arrest_MUN_2030  | value: 0.657174\n",
      "coefficient: first_arrest_NCD1_1345  | value: 0.000000\n"
     ]
    }
   ],
   "source": [
    "# coefficient analysis (for interpretation)\n",
    "res = np.argsort(abs(model_with_social_data.coef_))[0]\n",
    "res = res[::-1]\n",
    "print('bias: %f' % model_with_social_data.intercept_)\n",
    "for coeff_index in res[0:50]:\n",
    "    value = baseline_model.coef_[0][coeff_index]\n",
    "    name = X_df.columns[coeff_index]\n",
    "    print('coefficient: %s  | value: %f' % (name, value))"
   ]
  },
  {
   "cell_type": "code",
   "execution_count": null,
   "metadata": {
    "collapsed": true
   },
   "outputs": [],
   "source": []
  }
 ],
 "metadata": {
  "kernelspec": {
   "display_name": "Python 3",
   "language": "python",
   "name": "python3"
  },
  "language_info": {
   "codemirror_mode": {
    "name": "ipython",
    "version": 3
   },
   "file_extension": ".py",
   "mimetype": "text/x-python",
   "name": "python",
   "nbconvert_exporter": "python",
   "pygments_lexer": "ipython3",
   "version": "3.6.0"
  }
 },
 "nbformat": 4,
 "nbformat_minor": 2
}
