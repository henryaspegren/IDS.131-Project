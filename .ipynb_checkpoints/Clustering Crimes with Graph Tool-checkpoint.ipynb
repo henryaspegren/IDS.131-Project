{
 "cells": [
  {
   "cell_type": "code",
   "execution_count": 2,
   "metadata": {},
   "outputs": [],
   "source": [
    "import pandas as pd\n",
    "import numpy as np\n",
    "import graph_tool as gt\n",
    "import datetime\n",
    "import itertools as it\n",
    "import matplotlib.pyplot as plt\n",
    "from graph_tool import stats as gt_stats\n",
    "from graph_tool.draw import graph_draw"
   ]
  },
  {
   "cell_type": "code",
   "execution_count": 3,
   "metadata": {},
   "outputs": [],
   "source": [
    "#### READ IN THE DATASETS\n",
    "\n",
    "co_offending_table = pd.read_csv('./raw_datasets/Cooffending.csv')\n",
    "crimes = pd.read_csv('./processed_datasets/crime_type_mapping.csv')\n",
    "\n",
    "#### CLEAN \n",
    "co_offending_table.drop_duplicates(inplace=True)\n",
    "\n",
    "def crime_category_to_int(x):\n",
    "    if x == 'x':\n",
    "        return(0)\n",
    "    else:\n",
    "        return(int(x))\n",
    "\n",
    "crimes['criminology_category'] = crimes.criminology_category.apply(lambda x: crime_category_to_int(x))\n",
    "\n",
    "# Format the crime labels with 0 corresponding to a missing value \n",
    "def crime_code_to_int(x):\n",
    "    if x == ' ':\n",
    "        return 0 \n",
    "    else:\n",
    "        return int(x)\n",
    "    \n",
    "co_offending_table['NCD1'] = co_offending_table.NCD1.apply(lambda x: crime_code_to_int(x))\n",
    "co_offending_table['NCD2'] = co_offending_table.NCD2.apply(lambda x: crime_code_to_int(x))\n",
    "co_offending_table['NCD3'] = co_offending_table.NCD3.apply(lambda x: crime_code_to_int(x))\n",
    "co_offending_table['NCD4'] = co_offending_table.NCD4.apply(lambda x: crime_code_to_int(x))\n",
    "\n",
    "# Only look at entries that have crime identified \n",
    "co_offending_table = co_offending_table[co_offending_table.NCD1 != 0]"
   ]
  },
  {
   "cell_type": "code",
   "execution_count": null,
   "metadata": {},
   "outputs": [],
   "source": [
    "## Contructing the Network\n",
    "\n",
    "def build_crime_relationship_graph(crime_df, co_offending_df):\n",
    "    # verticies are crime codes\n",
    "    N = len(crime_df['crime_code'])\n",
    "    \n",
    "    # represent as a graph\n",
    "    g= gt.Graph(directed=False)\n",
    "    g.add_vertex(N)\n",
    "    \n",
    "    # store properties     \n",
    "    crime_description = g.new_vertex_property(\"string\")\n",
    "    crime_code = g.new_vertex_property(\"int\")\n",
    "    crime_category = g.new_vertex_property(\"int\")\n",
    "    drug_crime = g.new_vertex_property(\"int\")\n",
    "    edge_weight = g.new_edge_property(\"int\")\n",
    "    \n",
    "    # also keep a mapping from vertex indicies back to crime codes\n",
    "    crime_code_to_index = {}\n",
    "    \n",
    "    for (vertex_index, row) in crime_df.iterrows():\n",
    "        crime_description[vertex_index] = row['text_description']\n",
    "        crime_code[vertex_index] = row['crime_code']\n",
    "        crime_category[vertex_index] = row['criminology_category']\n",
    "        drug_crime[vertex_index] = row['drug_crime']\n",
    "        crime_code_to_index[row['crime_code']] = vertex_index\n",
    "    \n",
    "    print('nodes added')\n",
    "    # get an iterator over edges\n",
    "    crimes_committed_together = co_offending_table.groupby('NoUnique').apply(\n",
    "        lambda x: it.combinations(map(lambda y: crime_code_to_index[y], x.NCD1.values), 2))\n",
    "    \n",
    "    print('edge iterator built')\n",
    "    \n",
    "    # go through an calculate the weights \n",
    "    edges_with_weights = {}\n",
    "    for pair in crimes_committed_together:\n",
    "        for (vertex_1, vertex_2) in pair:\n",
    "            if vertex_1 == vertex_2:\n",
    "                continue\n",
    "            if (vertex_1, vertex_2) in edges_with_weights.keys() and (vertex_2, vertex_1) in edges_with_weights.keys():\n",
    "                edges_with_weights[(vertex_1, vertex_2)] += 1\n",
    "                edges_with_weights[(vertex_2, vertex_1)] += 1\n",
    "            else:\n",
    "                edges_with_weights[(vertex_1, vertex_2)] = 1 \n",
    "                edges_with_weights[(vertex_2, vertex_1)] = 1\n",
    "    \n",
    "    print('edge weights calulated')\n",
    "    print('adding edges to graph')\n",
    "    \n",
    "    # now add edges and weights to the graph \n",
    "    for (edge, weight) in edges_with_weights.items():\n",
    "        vertex_1 = edge[0]\n",
    "        vertex_2 = edge[1]\n",
    "        g.add_edge(vertex_1, vertex_2)\n",
    "        edge_weight[(vertex_1, vertex_2)] = weight\n",
    "    \n",
    "    print('edges added to graph')\n",
    "        \n",
    "    g.edge_properties['weight'] = edge_weight\n",
    "    g.vertex_properties['crime_code'] = crime_code\n",
    "    g.vertex_properties['crime_description'] = crime_description\n",
    "    g.vertex_properties['criminology_category'] = crime_category\n",
    "    g.vertex_properties['drug_crime'] = drug_crime\n",
    "    \n",
    "    # also remove the parallel edges \n",
    "    gt.stats.remove_parallel_edges(g)\n",
    "    \n",
    "    return(g)"
   ]
  },
  {
   "cell_type": "code",
   "execution_count": null,
   "metadata": {
    "scrolled": true
   },
   "outputs": [],
   "source": [
    "g = build_crime_relationship_graph(crimes, co_offending_table)"
   ]
  },
  {
   "cell_type": "code",
   "execution_count": null,
   "metadata": {},
   "outputs": [],
   "source": [
    "g.save(\"./crime_type_graph.gml\")"
   ]
  },
  {
   "cell_type": "code",
   "execution_count": 4,
   "metadata": {},
   "outputs": [],
   "source": [
    "g= gt.Graph(directed=False)\n",
    "g.load(file_name=\"./crime_type_graph.gml\")"
   ]
  },
  {
   "cell_type": "code",
   "execution_count": 5,
   "metadata": {},
   "outputs": [
    {
     "name": "stdout",
     "output_type": "stream",
     "text": [
      "385 13775\n"
     ]
    }
   ],
   "source": [
    "print(g.num_vertices(), g.num_edges())"
   ]
  },
  {
   "cell_type": "code",
   "execution_count": 6,
   "metadata": {},
   "outputs": [],
   "source": [
    "g.set_vertex_filter(None)"
   ]
  },
  {
   "cell_type": "code",
   "execution_count": 7,
   "metadata": {},
   "outputs": [],
   "source": [
    "log_weight = g.new_edge_property(\"float\")\n",
    "\n",
    "for edge in g.edges():\n",
    "    if g.edge_properties['weight'][edge] == 0:\n",
    "        log_weight[edge] = 0\n",
    "    else:\n",
    "        log_weight[edge] = np.log(g.edge_properties['weight'][edge])\n",
    "\n",
    "g.edge_properties['log_weight'] = log_weight"
   ]
  },
  {
   "cell_type": "code",
   "execution_count": 8,
   "metadata": {},
   "outputs": [],
   "source": [
    "degree_map = g.degree_property_map('out',weight=g.edge_properties['weight'])\n",
    "log_degree_map = g.degree_property_map('out',weight=g.edge_properties['log_weight'])"
   ]
  },
  {
   "cell_type": "code",
   "execution_count": 67,
   "metadata": {},
   "outputs": [
    {
     "data": {
      "image/png": "[encoded data removed]",
      "text/plain": [
       "<matplotlib.figure.Figure at 0x7f0a6c5c7550>"
      ]
     },
     "metadata": {},
     "output_type": "display_data"
    }
   ],
   "source": [
    "weights = [degree_map[vertex] for vertex in g.vertices()]\n",
    "plt.hist(weights, bins=100)\n",
    "plt.title('distribution of edge weights')\n",
    "plt.show()"
   ]
  },
  {
   "cell_type": "code",
   "execution_count": 72,
   "metadata": {},
   "outputs": [
    {
     "data": {
      "text/plain": [
       "105.79999999999998"
      ]
     },
     "execution_count": 72,
     "metadata": {},
     "output_type": "execute_result"
    }
   ],
   "source": [
    "np.percentile(weights, 20)"
   ]
  },
  {
   "cell_type": "code",
   "execution_count": 10,
   "metadata": {},
   "outputs": [
    {
     "data": {
      "image/png": "[encoded data removed]",
      "text/plain": [
       "<matplotlib.figure.Figure at 0x7f0a6d0e6b70>"
      ]
     },
     "metadata": {},
     "output_type": "display_data"
    }
   ],
   "source": [
    "log_weights = [log_degree_map[vertex] for vertex in g.vertices()]\n",
    "plt.hist(log_weights, bins=100)\n",
    "plt.title('distribution of log edge weights')\n",
    "plt.show()"
   ]
  },
  {
   "cell_type": "code",
   "execution_count": 75,
   "metadata": {},
   "outputs": [],
   "source": [
    "filter_map = g.new_vertex_property('bool')"
   ]
  },
  {
   "cell_type": "code",
   "execution_count": 76,
   "metadata": {},
   "outputs": [],
   "source": [
    "crime_codes = {} \n",
    "for vertex in g.vertices():\n",
    "    if degree_map[vertex] > 105 and g.vertex_properties['criminology\\x00category'][vertex] != 0:\n",
    "        filter_map[vertex] = True\n",
    "        crime_codes.append(g.vertex_properties['crime'])\n",
    "    else:\n",
    "        filter_map[vertex] =  False"
   ]
  },
  {
   "cell_type": "code",
   "execution_count": 77,
   "metadata": {},
   "outputs": [],
   "source": [
    "g.set_vertex_filter(filter_map)"
   ]
  },
  {
   "cell_type": "code",
   "execution_count": 78,
   "metadata": {},
   "outputs": [
    {
     "name": "stdout",
     "output_type": "stream",
     "text": [
      "138 5670\n"
     ]
    }
   ],
   "source": [
    "print(g.num_vertices(), g.num_edges())"
   ]
  },
  {
   "cell_type": "code",
   "execution_count": 79,
   "metadata": {},
   "outputs": [],
   "source": [
    "block_model_unweighted_3_class = gt.inference.minimize_blockmodel_dl(g,B_max=3, B_min=3)"
   ]
  },
  {
   "cell_type": "code",
   "execution_count": 80,
   "metadata": {},
   "outputs": [
    {
     "data": {
      "text/plain": [
       "7649.1681868138676"
      ]
     },
     "execution_count": 80,
     "metadata": {},
     "output_type": "execute_result"
    }
   ],
   "source": [
    "block_model_unweighted_3_class.entropy()"
   ]
  },
  {
   "cell_type": "code",
   "execution_count": 81,
   "metadata": {},
   "outputs": [],
   "source": [
    "block_model_unweighted_multi_class = gt.inference.minimize_blockmodel_dl(g, B_max=None, B_min=None)"
   ]
  },
  {
   "cell_type": "code",
   "execution_count": 82,
   "metadata": {},
   "outputs": [
    {
     "data": {
      "text/plain": [
       "7649.168186813853"
      ]
     },
     "execution_count": 82,
     "metadata": {},
     "output_type": "execute_result"
    }
   ],
   "source": [
    "block_model_unweighted_multi_class.entropy()"
   ]
  },
  {
   "cell_type": "code",
   "execution_count": 83,
   "metadata": {},
   "outputs": [],
   "source": [
    "block_model_weighted_3_class = gt.inference.minimize_blockmodel_dl(g,B_max=3, B_min=3, state_args=dict(recs=[g.edge_properties['weight']],\n",
    "                                                               rec_types=[\"discrete-geometric\"]))"
   ]
  },
  {
   "cell_type": "code",
   "execution_count": 84,
   "metadata": {},
   "outputs": [
    {
     "data": {
      "text/plain": [
       "32478.677127426734"
      ]
     },
     "execution_count": 84,
     "metadata": {},
     "output_type": "execute_result"
    }
   ],
   "source": [
    "block_model_weighted_3_class.entropy()"
   ]
  },
  {
   "cell_type": "code",
   "execution_count": 85,
   "metadata": {},
   "outputs": [],
   "source": [
    "block_model_weighted_multi_class = gt.inference.minimize_blockmodel_dl(g,B_max=None, B_min=None, state_args=dict(recs=[g.edge_properties['weight']],\n",
    "                                                               rec_types=[\"discrete-geometric\"]))"
   ]
  },
  {
   "cell_type": "code",
   "execution_count": 86,
   "metadata": {},
   "outputs": [
    {
     "data": {
      "text/plain": [
       "30604.704992567895"
      ]
     },
     "execution_count": 86,
     "metadata": {},
     "output_type": "execute_result"
    }
   ],
   "source": [
    "block_model_weighted_multi_class.entropy()"
   ]
  },
  {
   "cell_type": "code",
   "execution_count": 87,
   "metadata": {},
   "outputs": [],
   "source": [
    "block_model_log_weighted_3_class = gt.inference.minimize_blockmodel_dl(g,B_max=3, B_min=3, state_args=dict(recs=[g.edge_properties['log_weight']],\n",
    "                                                               rec_types=[\"real-exponential\"]))"
   ]
  },
  {
   "cell_type": "code",
   "execution_count": 88,
   "metadata": {},
   "outputs": [
    {
     "data": {
      "text/plain": [
       "16072.116658262839"
      ]
     },
     "execution_count": 88,
     "metadata": {},
     "output_type": "execute_result"
    }
   ],
   "source": [
    "block_model_log_weighted_3_class.entropy()"
   ]
  },
  {
   "cell_type": "code",
   "execution_count": 89,
   "metadata": {},
   "outputs": [],
   "source": [
    "block_model_log_weighted_multi_class = gt.inference.minimize_blockmodel_dl(g,B_max=None, B_min=None, state_args=dict(recs=[g.edge_properties['log_weight']],\n",
    "                                                               rec_types=[\"real-exponential\"]))"
   ]
  },
  {
   "cell_type": "code",
   "execution_count": 90,
   "metadata": {},
   "outputs": [
    {
     "data": {
      "text/plain": [
       "15722.948705634506"
      ]
     },
     "execution_count": 90,
     "metadata": {},
     "output_type": "execute_result"
    }
   ],
   "source": [
    "block_model_log_weighted_multi_class.entropy()"
   ]
  },
  {
   "cell_type": "code",
   "execution_count": 91,
   "metadata": {},
   "outputs": [],
   "source": [
    "def get_results_of_block_model(model, graph):\n",
    "    rows = []\n",
    "    for vertex in graph.vertices():\n",
    "        crime_code = graph.vertex_properties['crime\\x00code'][vertex]\n",
    "        crime_description = graph.vertex_properties['crime\\x00description'][vertex]\n",
    "        criminology_category = graph.vertex_properties['criminology\\x00category'][vertex]\n",
    "        drug_crime = graph.vertex_properties['drug\\x00crime'][vertex]\n",
    "        group = model.b[vertex]\n",
    "        rows.append({'crime_code': crime_code, \n",
    "                     'crime_description': crime_description, \n",
    "                     'criminology_category': criminology_category,\n",
    "                     'drug_crime': drug_crime,\n",
    "                     'group':group})\n",
    "    result = pd.DataFrame(rows)\n",
    "    return(result)\n",
    "    "
   ]
  },
  {
   "cell_type": "code",
   "execution_count": 92,
   "metadata": {},
   "outputs": [],
   "source": [
    "def visualize_distribution(grouping_df):\n",
    "    plt.hist(grouping_df.group,\n",
    "             range=(0,max(grouping_df.group)), bins=max(grouping_df.group)+1)\n",
    "    plt.show()"
   ]
  },
  {
   "cell_type": "code",
   "execution_count": 93,
   "metadata": {},
   "outputs": [],
   "source": [
    "def print_by_group(grouping_df):\n",
    "    groups = np.unique(grouping_df.group)\n",
    "    for group in groups:\n",
    "        print(\"-------------------- GROUP %i -----------------------\" % group)\n",
    "        count_total = len(results_df[results_df.group == group])\n",
    "        count_category_0 = len(results_df[(results_df.group == group) & (results_df.criminology_category == 0)])\n",
    "        count_category_1 = len(results_df[(results_df.group == group) & (results_df.criminology_category == 1)])\n",
    "        count_category_2 = len(results_df[(results_df.group == group) & (results_df.criminology_category == 2)])\n",
    "        count_category_3 = len(results_df[(results_df.group == group) & (results_df.criminology_category == 3)])\n",
    "        count_drug = len(results_df[(results_df.group == group) & (results_df.drug_crime == 1)])\n",
    "        print('count: %i' % count_total)\n",
    "        print('share of category 0: %f' % (count_category_0/count_total))\n",
    "        print('share of category 1: %f' % (count_category_1/count_total))\n",
    "        print('share of category 2: %f' % (count_category_2/count_total))\n",
    "        print('share of category 3: %f' % (count_category_3/count_total))\n",
    "        print('share of drug crime: %f' % (count_drug/count_total))\n",
    "        print(grouping_df[grouping_df.group == group][['crime_description', 'criminology_category']])"
   ]
  },
  {
   "cell_type": "code",
   "execution_count": 94,
   "metadata": {},
   "outputs": [],
   "source": [
    "def print_crime_category_distribution(crime_df):\n",
    "    count_total = len(crime_df)\n",
    "    count_category_0 = len(crime_df[(crime_df.criminology_category == 0)])\n",
    "    count_category_1 = len(crime_df[(crime_df.criminology_category == 1)])\n",
    "    count_category_2 = len(crime_df[(crime_df.criminology_category == 2)])\n",
    "    count_category_3 = len(crime_df[(crime_df.criminology_category == 3)])\n",
    "    count_drug = len(results_df[(results_df.drug_crime == 1)])\n",
    "    print('count: %i' % count_total)\n",
    "    print('share of category 0: %f' % (count_category_0/count_total))\n",
    "    print('share of category 1: %f' % (count_category_1/count_total))\n",
    "    print('share of category 2: %f' % (count_category_2/count_total))\n",
    "    print('share of category 3: %f' % (count_category_3/count_total))\n",
    "    print('share of drug crime: %f' % (count_drug/count_total))"
   ]
  },
  {
   "cell_type": "code",
   "execution_count": 104,
   "metadata": {},
   "outputs": [],
   "source": [
    "results_df = get_results_of_block_model(block_model_unweighted_multi_class, g)"
   ]
  },
  {
   "cell_type": "code",
   "execution_count": 105,
   "metadata": {
    "scrolled": true
   },
   "outputs": [
    {
     "data": {
      "image/png": "[encoded data removed]",
      "text/plain": [
       "<matplotlib.figure.Figure at 0x7f0a662c9390>"
      ]
     },
     "metadata": {},
     "output_type": "display_data"
    }
   ],
   "source": [
    "visualize_distribution(results_df)"
   ]
  },
  {
   "cell_type": "code",
   "execution_count": 106,
   "metadata": {
    "scrolled": true
   },
   "outputs": [
    {
     "name": "stdout",
     "output_type": "stream",
     "text": [
      "-------------------- GROUP 0 -----------------------\n",
      "count: 41\n",
      "share of category 0: 0.000000\n",
      "share of category 1: 0.341463\n",
      "share of category 2: 0.341463\n",
      "share of category 3: 0.317073\n",
      "share of drug crime: 0.097561\n",
      "             crime_description  criminology_category\n",
      "4         TENTATIVE DE MEURTRE                   1.0\n",
      "7     AGRESSION SEXUELLE ARMEE                   1.0\n",
      "9    AUTRE INFRACTION SEXUELLE                   1.0\n",
      "12   VOIES DE FAIT GRAVES NIV3                   1.0\n",
      "15   INFLIGER ILLEGAL. LESIONS                   1.0\n",
      "18        AUTRES VOIES DE FAIT                   1.0\n",
      "22   APPELS TEL. INDEC.HARASS.                   1.0\n",
      "23   AUTRE CRIME AVEC VIOLENCE                   1.0\n",
      "29                PROXENETISME                   3.0\n",
      "31     AUTRE ACTE PROSTITUTION                   3.0\n",
      "34   USAGE ARME FEU FAUSSE ARM                   3.0\n",
      "38   USAGE DANGEREUX ARME A FE                   3.0\n",
      "40   ENTREPOSAGE NON SECUR ARM                   3.0\n",
      "42       UTIL DE MONN CONTREF.                   3.0\n",
      "48    METHAMPHETAM. POSSESSION                   3.0\n",
      "64                  ENLEVEMENT                   1.0\n",
      "69    VOL QUALIFIE DE VEHICULE                   1.0\n",
      "70     VOL QUALIFIE SAC A MAIN                   1.0\n",
      "71       AUTRES VOLS QUALIFIES                   1.0\n",
      "74   INTIMID.GEN.ART.423 1.A-G                   1.0\n",
      "75   INTIMID. PERS. SYST. JUST                   1.0\n",
      "77      INCENDIE DE VEH. AUTO.                   2.0\n",
      "79      INCENDIE  AUTRES BIENS                   2.0\n",
      "83   AUTRES INTRO AVEC EFFRAC.                   2.0\n",
      "84   VOL + 5000$ DANS SUR VEH.                   2.0\n",
      "91            VOL MOTOCYCLETTE                   2.0\n",
      "92       VOL TRACTEUR,REMORQUE                   2.0\n",
      "93   VOL VR CONSTRUCTION,FERME                   2.0\n",
      "94               VOL MOTONEIGE                   2.0\n",
      "96          VOL AUTRE VEHICULE                   2.0\n",
      "98   VOL 5000$ - DE SAC A MAIN                   2.0\n",
      "99       VOL 5000$ - A LA TIRE                   2.0\n",
      "106  OBTENTION FRAU.GITE-NOUR.                   3.0\n",
      "107  OBTENTION FRAU. TRANSPORT                   3.0\n",
      "118     MEFAIT DOMMAGE + 5000$                   2.0\n",
      "120   MEFAITS + 5000$ SUR VEH.                   2.0\n",
      "123  MEFAIT (GRAFFITI) 5000$ -                   2.0\n",
      "124  POSSESSION PORNO JUVENILE                   3.0\n",
      "132               CRACK TRAFIC                   3.0\n",
      "133           CRACK POS TRAFIC                   3.0\n",
      "136      CANNABIS HYDROPONIQUE                   3.0\n",
      "-------------------- GROUP 1 -----------------------\n",
      "count: 52\n",
      "share of category 0: 0.000000\n",
      "share of category 1: 0.326923\n",
      "share of category 2: 0.096154\n",
      "share of category 3: 0.576923\n",
      "share of drug crime: 0.230769\n",
      "             crime_description  criminology_category\n",
      "0        MEURTRE PREMIER DEGRE                   1.0\n",
      "1       MEURTRE DEUXIEME DEGRE                   1.0\n",
      "2     HOMICIDE INVOL. COUPABLE                   1.0\n",
      "3      NEGLIGENCE CRIMIN. MORT                   1.0\n",
      "5         CONSPIRATION MEURTRE                   1.0\n",
      "6     AGRESSION SEXUELLE GRAVE                   1.0\n",
      "10              CONTACT SEXUEL                   1.0\n",
      "11   INCITATION CONTACT SEXUEL                   1.0\n",
      "16   DECH. ARME AVEC INTENTION                   1.0\n",
      "17    NEGLIGENCE CRIM. LESIONS                   1.0\n",
      "19     ENLEV. ORDONNANCE GARDE                   1.0\n",
      "20    ENLEV. SANS ORDON. GARDE                   1.0\n",
      "25   MORT/LESION INCEND/MEFAIT                   1.0\n",
      "27          MAISON DE DEBAUCHE                   3.0\n",
      "28   PROST-18,VIVRE PROD PROST                   3.0\n",
      "30       PROST-18,PROXENETISME                   3.0\n",
      "32                   EXPLOSIFS                   3.0\n",
      "33    ARME A FEU:VENTE ACQUISI                   3.0\n",
      "35             TRAFIC D''ARMES                   3.0\n",
      "39   DOC.ADM RELATIVE ARME A F                   3.0\n",
      "43    RECYCL PROD CRIMIN(C.CR)                   3.0\n",
      "44          HEROINE POSSESSION                   3.0\n",
      "49          ECSTASY POSSESSION                   3.0\n",
      "50              HEROINE TRAFIC                   3.0\n",
      "54     METHAMPHETAMINES TRAFIC                   3.0\n",
      "55              ECSTASY TRAFIC                   3.0\n",
      "56       COCAINE IMPORT-EXPORT                   3.0\n",
      "57     AUTRE SUBSTANCE IMP-EXP                   3.0\n",
      "58      CANNABIS IMPORT-EXPORT                   3.0\n",
      "59   AUTRES DROGUES PRODUCTION                   3.0\n",
      "60      USAGE ARME A FEU CRIME                   1.0\n",
      "61      BRAQUER UNE ARME A FEU                   1.0\n",
      "68   VOL QUALIFIE INST. FINANC                   1.0\n",
      "73           EXTORSION - AUTRE                   1.0\n",
      "78   INCENDIE V.R EN MOUVEMENT                   2.0\n",
      "85   VOL + 5000$ DE SAC A MAIN                   2.0\n",
      "86    VOL + 5000$ A L''ETALAGE                   2.0\n",
      "87   VOL + 5000$ DE BICYCLETTE                   2.0\n",
      "108   FRAUDE CHANGEM. D''ETIQ.                   3.0\n",
      "110    FAUSSE RECLAM. GOUVERN.                   3.0\n",
      "111               AUTRE FRAUDE                   3.0\n",
      "112   FRAUDE PAR TELEMARKETING                   3.0\n",
      "113   FRAUDE VAL. MOB. FINANCE                   3.0\n",
      "114   FAUSSE RECLAM. ASSURANCE                   3.0\n",
      "115      FRAUDE PAR ORDINATEUR                   3.0\n",
      "116  CLONAGE CARTES DE SERVICE                   3.0\n",
      "122  MEFAIT (GRAFFITI) + 5000$                   2.0\n",
      "125     INTIMID. PERS. JUSTICE                   3.0\n",
      "126  AUT INF CONT. FRAUD. COMM                   3.0\n",
      "127  PARTIC. ACT. ORG. CRIMIN.                   3.0\n",
      "129         HEROINE POS TRAFIC                   3.0\n",
      "135   METHAMPHETAM. POS TRAFIC                   3.0\n",
      "-------------------- GROUP 2 -----------------------\n",
      "count: 45\n",
      "share of category 0: 0.000000\n",
      "share of category 1: 0.244444\n",
      "share of category 2: 0.311111\n",
      "share of category 3: 0.444444\n",
      "share of drug crime: 0.244444\n",
      "             crime_description  criminology_category\n",
      "8           AGRESSION SEXUELLE                   1.0\n",
      "13   AGR.ARMEE OU LESIONS NIV2                   1.0\n",
      "14         VOIES DE FAIT NIV.1                   1.0\n",
      "21        HARCELEMENT CRIMINEL                   1.0\n",
      "24        PROFERER DES MENACES                   1.0\n",
      "26                       RECEL                   3.0\n",
      "36   POS ARMES EN CONTRAV ORDO                   3.0\n",
      "37         POSSESSION D''ARMES                   3.0\n",
      "41    INFRACTION CAUTIONNEMENT                   3.0\n",
      "45          COCAINE POSSESSION                   3.0\n",
      "46    AUTRE SUBSTANCE POSSESS.                   3.0\n",
      "47         CANNABIS POSSESSION                   3.0\n",
      "51              COCAINE TRAFIC                   3.0\n",
      "52      AUTRE SUBSTANCE TRAFIC                   3.0\n",
      "53             CANNABIS TRAFIC                   3.0\n",
      "62       VOIE DE FAIT POLICIER                   1.0\n",
      "63     VOIE DE FAIT AGENT PAIX                   1.0\n",
      "65               SEQUESTRATION                   1.0\n",
      "66   VOL QUALIFIE SUR PERSONNE                   1.0\n",
      "67   VOL QUALIFIE DANS COMMERC                   1.0\n",
      "72        EXTORSION - PERSONNE                   1.0\n",
      "76    INCENDIE BIEN IMMOBILIER                   2.0\n",
      "80   INTRO PAR EFFR. DANS RES.                   2.0\n",
      "81   INTRO EF. CAMP CHA. ROUL.                   2.0\n",
      "82   INTRO EF. ETA. COM. PUBL.                   2.0\n",
      "88         AUTRES VOLS + 5000$                   2.0\n",
      "89              VOL AUTOMOBILE                   2.0\n",
      "90          VOL CAMION,AUTOBUS                   2.0\n",
      "95   VOL VEHICULE TOUT TERRAIN                   2.0\n",
      "97   VOL 5000$ - DANS SUR VEH.                   2.0\n",
      "100   VOL 5000$ - A L''ETALAGE                   2.0\n",
      "101  VOL 5000$ ET - DE BICYCL.                   2.0\n",
      "102     AUTRES VOLS 5000$ ET -                   2.0\n",
      "103   FRAUDE PAR CARTE SERVICE                   3.0\n",
      "104          FRAUDE PAR CHEQUE                   3.0\n",
      "105  FRAUDE PAR GUICHET AUTO..                   3.0\n",
      "109    SUPPOSITION DE PERSONNE                   3.0\n",
      "117             AUTRES FRAUDES                   3.0\n",
      "119  MEFAIT DOMMAGE 5000$ OU -                   2.0\n",
      "121   MEFAITS 5000$ - SUR VEH.                   2.0\n",
      "128           CRACK POSSESSION                   3.0\n",
      "130         COCAINE POS TRAFIC                   3.0\n",
      "131  AUTRE SUBSTANCE POS TRAF.                   3.0\n",
      "134        CANNABIS POS TRAFIC                   3.0\n",
      "137          CANNABIS EN TERRE                   3.0\n"
     ]
    }
   ],
   "source": [
    "print_by_group(results_df)"
   ]
  },
  {
   "cell_type": "code",
   "execution_count": 107,
   "metadata": {},
   "outputs": [
    {
     "name": "stdout",
     "output_type": "stream",
     "text": [
      "count: 138\n",
      "share of category 0: 0.000000\n",
      "share of category 1: 0.304348\n",
      "share of category 2: 0.239130\n",
      "share of category 3: 0.456522\n",
      "share of drug crime: 0.195652\n"
     ]
    }
   ],
   "source": [
    "print_crime_category_distribution(results_df)"
   ]
  },
  {
   "cell_type": "code",
   "execution_count": null,
   "metadata": {},
   "outputs": [],
   "source": []
  },
  {
   "cell_type": "code",
   "execution_count": null,
   "metadata": {},
   "outputs": [],
   "source": []
  },
  {
   "cell_type": "code",
   "execution_count": null,
   "metadata": {},
   "outputs": [],
   "source": []
  },
  {
   "cell_type": "code",
   "execution_count": null,
   "metadata": {},
   "outputs": [],
   "source": []
  }
 ],
 "metadata": {
  "kernelspec": {
   "display_name": "Python 3",
   "language": "python",
   "name": "python3"
  },
  "language_info": {
   "codemirror_mode": {
    "name": "ipython",
    "version": 3
   },
   "file_extension": ".py",
   "mimetype": "text/x-python",
   "name": "python",
   "nbconvert_exporter": "python",
   "pygments_lexer": "ipython3",
   "version": "3.5.2"
  }
 },
 "nbformat": 4,
 "nbformat_minor": 2
}
