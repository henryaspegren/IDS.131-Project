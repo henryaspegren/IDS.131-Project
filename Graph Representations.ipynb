{
 "cells": [
  {
   "cell_type": "code",
   "execution_count": 1,
   "metadata": {
    "collapsed": true
   },
   "outputs": [],
   "source": [
    "import pandas as pd\n",
    "import networkx as nx\n",
    "import numpy as np\n",
    "import matplotlib.pyplot as plt\n",
    "import datetime, itertools\n",
    "import community"
   ]
  },
  {
   "cell_type": "code",
   "execution_count": 2,
   "metadata": {
    "collapsed": true
   },
   "outputs": [],
   "source": [
    "co_offending_table = pd.read_csv('./Cooffending.csv')\n",
    "\n",
    "# Remove duplicate rows\n",
    "co_offending_table.drop_duplicates(inplace=True)\n",
    "\n",
    "# Format the date column as a python datetime object\n",
    "co_offending_table['Date'] = co_offending_table.Date.apply(lambda x: datetime.datetime.strptime(x, '%m/%d/%Y'))"
   ]
  },
  {
   "cell_type": "code",
   "execution_count": null,
   "metadata": {
    "collapsed": false
   },
   "outputs": [],
   "source": [
    "# dual network: simple, unweighted\n",
    "dual_network_representation_simple = nx.Graph()\n",
    "\n",
    "def add_edges_dual_simple(network_representation, crime_event_df):\n",
    "    #print(crime_event_df.index)\n",
    "    for (index_1, index_2) in itertools.combinations(crime_event_df.index, 2):\n",
    "        seq1 = crime_event_df.get_value(index=index_1, col='SeqE')\n",
    "        seq2 = crime_event_df.get_value(index=index_2, col='SeqE')\n",
    "        # only will add nodes once \n",
    "        #network_representation.add_node(seq1, \n",
    "        #                                ncd1=crime_event_df.get_value(index=index_1, col='NCD1'),\n",
    "        #                                mun=crime_event_df.get_value(index_1, col='MUN'),\n",
    "        #                                ed1 = crime_event_df.get_value(index_1, col='ED1'))\n",
    "        #network_representation.add_node(seq2, \n",
    "        #                               ncd1=crime_event_df.get_value(index=index_2, col='NCD1'),\n",
    "        #                                mun=crime_event_df.get_value(index_2, col='MUN'),\n",
    "        #                                ed1 = crime_event_df.get_value(index_2, col='ED1'))\n",
    "        # add the edge. Note that this will only ever add one undirected edge\n",
    "        network_representation.add_edge(seq1, seq2)\n",
    "    return None\n",
    "\n",
    "co_offending_table.groupby('NoUnique').apply(lambda x: add_edges_dual_simple(dual_network_representation_simple, x))"
   ]
  },
  {
   "cell_type": "code",
   "execution_count": null,
   "metadata": {
    "collapsed": true
   },
   "outputs": [],
   "source": [
    "# dual network: mutligraph, unweighted\n",
    "dual_network_representation_multigraph = nx.MultiGraph()\n",
    "\n",
    "def add_edges_dual_multi(network_representation, crime_events):\n",
    "    for (crime_event1, crime_event2) in itertools.combinations(crime_events, 2):\n",
    "            # in a simple, undirected graph, only one edge can be added \n",
    "            network_representation.add_edge(crime_event1, crime_event2)\n",
    "    return None\n",
    "\n",
    "co_offending_table.groupby('NoUnique').apply(lambda x: add_edges_dual_multi(dual_network_representation_simple, list(x.SeqE)))"
   ]
  },
  {
   "cell_type": "code",
   "execution_count": null,
   "metadata": {
    "collapsed": false
   },
   "outputs": [],
   "source": [
    "# Create a bipartite representation of the network\n",
    "bipartite_network_representation = nx.Graph()\n",
    "\n",
    "for (index, row) in co_offending_table.iterrows():\n",
    "    crime_event = 'X_'+str(row['SeqE'])\n",
    "    offender = row['NoUnique']\n",
    "    bipartite_network_representation.add_edge(offender, crime_event)"
   ]
  },
  {
   "cell_type": "code",
   "execution_count": null,
   "metadata": {
    "collapsed": false
   },
   "outputs": [],
   "source": [
    "bipartite_network_representation.nodes()"
   ]
  },
  {
   "cell_type": "code",
   "execution_count": null,
   "metadata": {
    "collapsed": true
   },
   "outputs": [],
   "source": [
    "largest_component = max(nx.connected_component_subgraphs(bipartite_network_representation), key=len)"
   ]
  },
  {
   "cell_type": "code",
   "execution_count": null,
   "metadata": {
    "collapsed": false
   },
   "outputs": [],
   "source": [
    "len(largest_component.nodes())"
   ]
  },
  {
   "cell_type": "code",
   "execution_count": null,
   "metadata": {
    "collapsed": false
   },
   "outputs": [],
   "source": [
    "from networkx.algorithms import bipartite"
   ]
  },
  {
   "cell_type": "code",
   "execution_count": null,
   "metadata": {
    "collapsed": false
   },
   "outputs": [],
   "source": [
    "bipartite.sets(bipartite_network_representation)"
   ]
  }
 ],
 "metadata": {
  "kernelspec": {
   "display_name": "Python 3",
   "language": "python",
   "name": "python3"
  },
  "language_info": {
   "codemirror_mode": {
    "name": "ipython",
    "version": 3
   },
   "file_extension": ".py",
   "mimetype": "text/x-python",
   "name": "python",
   "nbconvert_exporter": "python",
   "pygments_lexer": "ipython3",
   "version": "3.6.0"
  }
 },
 "nbformat": 4,
 "nbformat_minor": 2
}
